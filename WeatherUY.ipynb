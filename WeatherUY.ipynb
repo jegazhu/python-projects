{
  "nbformat": 4,
  "nbformat_minor": 0,
  "metadata": {
    "colab": {
      "provenance": [],
      "authorship_tag": "ABX9TyNhzFS+x4Lh3+KGi2ZPKDQi",
      "include_colab_link": true
    },
    "kernelspec": {
      "name": "python3",
      "display_name": "Python 3"
    },
    "language_info": {
      "name": "python"
    }
  },
  "cells": [
    {
      "cell_type": "markdown",
      "metadata": {
        "id": "view-in-github",
        "colab_type": "text"
      },
      "source": [
        "<a href=\"https://colab.research.google.com/github/jegazhu/python-projects/blob/main/WeatherUY.ipynb\" target=\"_parent\"><img src=\"https://colab.research.google.com/assets/colab-badge.svg\" alt=\"Open In Colab\"/></a>"
      ]
    },
    {
      "cell_type": "code",
      "execution_count": 1,
      "metadata": {
        "colab": {
          "base_uri": "https://localhost:8080/"
        },
        "id": "PwHNVH39_Y87",
        "outputId": "c588d3b1-7f90-492c-bccb-129573a392e8"
      },
      "outputs": [
        {
          "output_type": "stream",
          "name": "stdout",
          "text": [
            "Looking in indexes: https://pypi.org/simple, https://us-python.pkg.dev/colab-wheels/public/simple/\n",
            "Collecting meteostat\n",
            "  Downloading meteostat-1.6.5-py3-none-any.whl (31 kB)\n",
            "Requirement already satisfied: pandas>=1.1 in /usr/local/lib/python3.7/dist-packages (from meteostat) (1.3.5)\n",
            "Requirement already satisfied: numpy in /usr/local/lib/python3.7/dist-packages (from meteostat) (1.21.6)\n",
            "Requirement already satisfied: pytz in /usr/local/lib/python3.7/dist-packages (from meteostat) (2022.6)\n",
            "Requirement already satisfied: python-dateutil>=2.7.3 in /usr/local/lib/python3.7/dist-packages (from pandas>=1.1->meteostat) (2.8.2)\n",
            "Requirement already satisfied: six>=1.5 in /usr/local/lib/python3.7/dist-packages (from python-dateutil>=2.7.3->pandas>=1.1->meteostat) (1.15.0)\n",
            "Installing collected packages: meteostat\n",
            "Successfully installed meteostat-1.6.5\n"
          ]
        }
      ],
      "source": [
        "!pip install meteostat"
      ]
    },
    {
      "cell_type": "code",
      "source": [
        "import meteostat\n",
        "from datetime import datetime\n",
        "import pandas as pd\n",
        "import os\n",
        "import glob\n",
        "\n",
        "#gathering weather data\n",
        "start = datetime(2022, 1, 1)\n",
        "end = datetime(2022, 12, 31)\n",
        "\n",
        "locations = [[34.13,54.46],#Aigua\n",
        "              [32.25,57.23],#Algorta\n",
        "              [30.55,57.49],#Arapey Grande\n",
        "              [30.2,56.3],#Artigas\n",
        "              [30.15,57.4],#Bella Union\n",
        "              [32.53,55.37],#Blanquillo\n",
        "              [34.32,56.17],#Canelones\n",
        "              [33.53,57.18],#Cardona\n",
        "              [34,58.2],#Carmelo\n",
        "              [34.12,53.52],#Castillos\n",
        "              [33.06,55.08],#Cerro Chato\n",
        "              [33.41,53.27],#Chuy\n",
        "              [34.25,57.5],#Colonia del Sacramento\n",
        "              [31,57.5],#Constitucion\n",
        "              [33.34,58.15],#Dolores\n",
        "              [33.25,56.31],#Durazno\n",
        "              [34.07,56.1],#Florida\n",
        "              [32.31,54.32],#Fraile Muerto\n",
        "              [33.1,58.15],#Fray Bentos\n",
        "              [33.2,55.1],#Jose Batlle y Ordonez\n",
        "              [34.26,57.25],#Juan L. Lacaze\n",
        "              [34.44,56.14],#Las Piedras\n",
        "              [33.35,54.12],#Lascano\n",
        "              [34.59,55],#Maldonado\n",
        "              [32.2,54.1],#Melo\n",
        "              [33.12,58],#Mercedes\n",
        "              [34.2,55.1],#Minas\n",
        "              [34.5,56.11],#Monatevideo\n",
        "              [33.24,58.22],#Negro\n",
        "              [33.52,58.2],#Nueva palmira\n",
        "              [34.44,56],#Pando\n",
        "              [32.19,58.08],#Paysandu\n",
        "              [32.09,58.09],#Queguay Grande\n",
        "              [34.3,54.25],#Rocha\n",
        "              [31.27,57.5],#Salto\n",
        "              [32.5,54.54],#Santa Clara de Olimar\n",
        "              [34.27,56.24],#Santa Lucia\n",
        "              [33.18,55.38],#Sarandi del Yi\n",
        "              [33.24,58.19],#Soriano\n",
        "              [31.45,56],#Tacuarembo\n",
        "              [32.56,53.57],#Vergara\n",
        "              [33.7,57.8],#Yi\n",
        "              ]\n",
        "\n",
        "cities = ['Aigua', 'Algorta', 'Arapey Grande', 'Artigas', 'Bella Union', 'Blanquillo', 'Canelones', 'Cardona', 'Carmelo', \n",
        "          'Castillos', 'Cerro Chato', 'Chuy', 'Colonia del Sacramento', 'Constitucion', 'Dolores', 'Durazno', 'Florida', \n",
        "          'Fraile Muerto', 'Fray Bentos', 'Jose Batlle y Ordonez', 'Juan L. Lacaze', 'Las Piedras', 'Lascano', 'Maldonado', \n",
        "          'Melo', 'Mercedes', 'Minas', 'Monatevideo', 'Negro', 'Nueva palmira', 'Pando', 'Paysandu', 'Queguay Grande', \n",
        "          'Rocha', 'Salto', 'Santa Clara de Olimar', 'Santa Lucia', 'Sarandi del Yi', 'Soriano', 'Tacuarembo', 'Vergara', 'Yi']\n",
        "\n",
        "\n",
        "for (loc, name) in zip(locations, cities):\n",
        "    mainDataframe = pd.DataFrame()\n",
        "\n",
        "    place = meteostat.Point(loc[0], loc[1])\n",
        "    data = meteostat.Daily(place, start, end)\n",
        "    data = data.fetch()\n",
        "\n",
        "    mainDataframe = mainDataframe.append(data)\n",
        "\n",
        "    mainDataframe['name'] = name\n",
        "\n",
        "    mainDataframe.to_csv('charrua' + name +'.csv', encoding='utf-8')\n",
        "print('Gathering weather data completed.')\n",
        "\n",
        "\n",
        "#merging csv files\n",
        "path = os.path.join('/content/', \"*.csv\")\n",
        "\n",
        "files = glob.glob(path)\n",
        "#print(files)\n",
        "\n",
        "df = pd.concat(map(pd.read_csv, files))\n",
        "df.to_csv(\"allWeather.csv\", encoding='utf-8')\n",
        "\n",
        "print(\"All csv's merged into one file.\")"
      ],
      "metadata": {
        "colab": {
          "base_uri": "https://localhost:8080/"
        },
        "id": "_tdVZhtV_hJU",
        "outputId": "252314bd-ae76-4725-eb8b-dd1dc2348967"
      },
      "execution_count": 2,
      "outputs": [
        {
          "output_type": "stream",
          "name": "stdout",
          "text": [
            "Gathering weather data completed.\n",
            "All csv's merged into one file.\n"
          ]
        }
      ]
    },
    {
      "cell_type": "code",
      "source": [],
      "metadata": {
        "id": "FSSwCytdjbNE"
      },
      "execution_count": null,
      "outputs": []
    }
  ]
}