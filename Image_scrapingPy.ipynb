{
  "nbformat": 4,
  "nbformat_minor": 0,
  "metadata": {
    "colab": {
      "provenance": [],
      "authorship_tag": "ABX9TyM2UuK4ezoU+RTZN6zhOzLU",
      "include_colab_link": true
    },
    "kernelspec": {
      "name": "python3",
      "display_name": "Python 3"
    },
    "language_info": {
      "name": "python"
    }
  },
  "cells": [
    {
      "cell_type": "markdown",
      "metadata": {
        "id": "view-in-github",
        "colab_type": "text"
      },
      "source": [
        "<a href=\"https://colab.research.google.com/github/jegazhu/python-projects/blob/main/Image_scrapingPy.ipynb\" target=\"_parent\"><img src=\"https://colab.research.google.com/assets/colab-badge.svg\" alt=\"Open In Colab\"/></a>"
      ]
    },
    {
      "cell_type": "code",
      "execution_count": 1,
      "metadata": {
        "colab": {
          "base_uri": "https://localhost:8080/"
        },
        "id": "E7hXJe6sFTn6",
        "outputId": "6cb828d5-37f6-48e9-acf0-36c538f84fc5"
      },
      "outputs": [
        {
          "output_type": "stream",
          "name": "stdout",
          "text": [
            "Looking in indexes: https://pypi.org/simple, https://us-python.pkg.dev/colab-wheels/public/simple/\n",
            "Requirement already satisfied: requests in /usr/local/lib/python3.7/dist-packages (2.23.0)\n",
            "Requirement already satisfied: urllib3!=1.25.0,!=1.25.1,<1.26,>=1.21.1 in /usr/local/lib/python3.7/dist-packages (from requests) (1.24.3)\n",
            "Requirement already satisfied: chardet<4,>=3.0.2 in /usr/local/lib/python3.7/dist-packages (from requests) (3.0.4)\n",
            "Requirement already satisfied: idna<3,>=2.5 in /usr/local/lib/python3.7/dist-packages (from requests) (2.10)\n",
            "Requirement already satisfied: certifi>=2017.4.17 in /usr/local/lib/python3.7/dist-packages (from requests) (2022.9.24)\n",
            "Looking in indexes: https://pypi.org/simple, https://us-python.pkg.dev/colab-wheels/public/simple/\n",
            "Requirement already satisfied: pandas in /usr/local/lib/python3.7/dist-packages (1.3.5)\n",
            "Requirement already satisfied: pytz>=2017.3 in /usr/local/lib/python3.7/dist-packages (from pandas) (2022.6)\n",
            "Requirement already satisfied: python-dateutil>=2.7.3 in /usr/local/lib/python3.7/dist-packages (from pandas) (2.8.2)\n",
            "Requirement already satisfied: numpy>=1.17.3 in /usr/local/lib/python3.7/dist-packages (from pandas) (1.21.6)\n",
            "Requirement already satisfied: six>=1.5 in /usr/local/lib/python3.7/dist-packages (from python-dateutil>=2.7.3->pandas) (1.15.0)\n",
            "Looking in indexes: https://pypi.org/simple, https://us-python.pkg.dev/colab-wheels/public/simple/\n",
            "Requirement already satisfied: beautifulsoup4 in /usr/local/lib/python3.7/dist-packages (4.6.3)\n"
          ]
        }
      ],
      "source": [
        "!pip install requests\n",
        "!pip install pandas\n",
        "!pip install beautifulsoup4"
      ]
    },
    {
      "cell_type": "code",
      "source": [
        "import requests # pip install requests\n",
        "from bs4 import BeautifulSoup # pip install beautifulsoup4"
      ],
      "metadata": {
        "id": "QhmJALHvQd8-"
      },
      "execution_count": 5,
      "outputs": []
    },
    {
      "cell_type": "code",
      "source": [
        "site_map = 'https://www.pngmart.com/sitemapindex.xml/'"
      ],
      "metadata": {
        "id": "GCFMI8ORQ0QW"
      },
      "execution_count": 6,
      "outputs": []
    },
    {
      "cell_type": "code",
      "source": [
        "response = requests.get(site_map)"
      ],
      "metadata": {
        "id": "7ZOMJBydRCx_"
      },
      "execution_count": 11,
      "outputs": []
    },
    {
      "cell_type": "code",
      "source": [
        "xml = response.text"
      ],
      "metadata": {
        "id": "4JDQubMtRHL-"
      },
      "execution_count": 27,
      "outputs": []
    },
    {
      "cell_type": "code",
      "source": [
        "soup = BeautifulSoup(xml, 'xml')"
      ],
      "metadata": {
        "id": "KelbW2rERPCW"
      },
      "execution_count": 21,
      "outputs": []
    },
    {
      "cell_type": "code",
      "source": [
        "site_maps = []\n",
        "#soup.find_all('loc')\n",
        "for loc in soup.find_all('loc'):\n",
        "    url = loc.text\n",
        "    if 'post' in url:\n",
        "        print(loc.text)\n",
        "        site_maps.append(url)"
      ],
      "metadata": {
        "id": "bbQZM7oyR_GP"
      },
      "execution_count": null,
      "outputs": []
    },
    {
      "cell_type": "code",
      "source": [
        "site_maps"
      ],
      "metadata": {
        "id": "mlozjiG0SAWI"
      },
      "execution_count": null,
      "outputs": []
    },
    {
      "cell_type": "code",
      "source": [
        "site_maps_1 = site_maps[0]"
      ],
      "metadata": {
        "id": "K00gue2sTW22"
      },
      "execution_count": 37,
      "outputs": []
    },
    {
      "cell_type": "code",
      "source": [
        "response = requests.get(site_maps_1)"
      ],
      "metadata": {
        "id": "PnhYSJFVVEtm"
      },
      "execution_count": 38,
      "outputs": []
    },
    {
      "cell_type": "code",
      "source": [
        "soup = BeautifulSoup(response.text, 'xml')"
      ],
      "metadata": {
        "id": "BJMl9NbGVJs-"
      },
      "execution_count": 41,
      "outputs": []
    },
    {
      "cell_type": "code",
      "source": [
        "master_list = []\n",
        "for loc in soup.find_all('loc'):\n",
        "    url = loc.text\n",
        "    master_list.append(url)"
      ],
      "metadata": {
        "id": "zOWU6pfSVm2O"
      },
      "execution_count": 43,
      "outputs": []
    },
    {
      "cell_type": "code",
      "source": [
        "master_list[0:5]"
      ],
      "metadata": {
        "id": "U-KhvaB1Wdue"
      },
      "execution_count": null,
      "outputs": []
    },
    {
      "cell_type": "code",
      "source": [
        "len(master_list)"
      ],
      "metadata": {
        "colab": {
          "base_uri": "https://localhost:8080/"
        },
        "id": "QunBaiWNWpeV",
        "outputId": "f23148a7-7373-480e-ab8a-b5950baa7a7b"
      },
      "execution_count": 45,
      "outputs": [
        {
          "output_type": "execute_result",
          "data": {
            "text/plain": [
              "1000"
            ]
          },
          "metadata": {},
          "execution_count": 45
        }
      ]
    },
    {
      "cell_type": "code",
      "source": [
        "for image_url in master_list:\n",
        "    print(image_url)\n",
        "    response = requests.get(image_url)\n",
        "    break"
      ],
      "metadata": {
        "colab": {
          "base_uri": "https://localhost:8080/"
        },
        "id": "0-5YDuoqW-DO",
        "outputId": "48bc0306-c0d6-49ba-a080-97c494ed9844"
      },
      "execution_count": 47,
      "outputs": [
        {
          "output_type": "stream",
          "name": "stdout",
          "text": [
            "https://www.pngmart.com/image/114871\n"
          ]
        }
      ]
    },
    {
      "cell_type": "code",
      "source": [
        "soup = BeautifulSoup(response.text, 'html.parser')"
      ],
      "metadata": {
        "id": "vCTPCQRcXUgV"
      },
      "execution_count": 50,
      "outputs": []
    },
    {
      "cell_type": "code",
      "source": [
        "soup.find('a', {'class':'download'})['href']"
      ],
      "metadata": {
        "colab": {
          "base_uri": "https://localhost:8080/",
          "height": 35
        },
        "id": "ydYuOOv-Zc1t",
        "outputId": "30d8a7fc-0e4c-4766-bbad-a64f4fc799ca"
      },
      "execution_count": 56,
      "outputs": [
        {
          "output_type": "execute_result",
          "data": {
            "text/plain": [
              "'https://www.pngmart.com/files/7/Savings-PNG-Photo.png'"
            ],
            "application/vnd.google.colaboratory.intrinsic+json": {
              "type": "string"
            }
          },
          "metadata": {},
          "execution_count": 56
        }
      ]
    },
    {
      "cell_type": "code",
      "source": [
        "for image_url in master_list[0:10]:\n",
        "    print(image_url)\n",
        "    response  = requests.get(image_url)\n",
        "    soup      = BeautifulSoup(response.text, 'html.parser')\n",
        "    png_url   = soup.find('a',{'class':'download'})['href']\n",
        "    image     = requests.get(png_url)\n",
        "    image_title = image_url.split('/')[-1]+'-'+png_url.split('/')[-1]\n",
        "\n",
        "    with open(image_title, 'wb') as file:\n",
        "        file.write(image.content)\n",
        "    \n",
        "#    break"
      ],
      "metadata": {
        "colab": {
          "base_uri": "https://localhost:8080/"
        },
        "id": "tt8FRkdqZg8t",
        "outputId": "afdfe4a5-2a4c-4206-cec6-a05bee892590"
      },
      "execution_count": 81,
      "outputs": [
        {
          "output_type": "stream",
          "name": "stdout",
          "text": [
            "https://www.pngmart.com/image/114871\n",
            "https://www.pngmart.com/image/611168\n",
            "https://www.pngmart.com/image/611166\n",
            "https://www.pngmart.com/image/611158\n",
            "https://www.pngmart.com/image/611154\n",
            "https://www.pngmart.com/image/611150\n",
            "https://www.pngmart.com/image/611148\n",
            "https://www.pngmart.com/image/611146\n",
            "https://www.pngmart.com/image/611144\n",
            "https://www.pngmart.com/image/611142\n"
          ]
        }
      ]
    },
    {
      "cell_type": "code",
      "source": [
        "master_list[0:10]"
      ],
      "metadata": {
        "colab": {
          "base_uri": "https://localhost:8080/"
        },
        "id": "8ysxAhTufGkW",
        "outputId": "18f1d215-1c6e-4fcc-8d6d-44123be8e282"
      },
      "execution_count": 79,
      "outputs": [
        {
          "output_type": "execute_result",
          "data": {
            "text/plain": [
              "['https://www.pngmart.com/image/114871',\n",
              " 'https://www.pngmart.com/image/611168',\n",
              " 'https://www.pngmart.com/image/611166',\n",
              " 'https://www.pngmart.com/image/611158',\n",
              " 'https://www.pngmart.com/image/611154',\n",
              " 'https://www.pngmart.com/image/611150',\n",
              " 'https://www.pngmart.com/image/611148',\n",
              " 'https://www.pngmart.com/image/611146',\n",
              " 'https://www.pngmart.com/image/611144',\n",
              " 'https://www.pngmart.com/image/611142']"
            ]
          },
          "metadata": {},
          "execution_count": 79
        }
      ]
    },
    {
      "cell_type": "code",
      "source": [
        "image = requests.get(png_url)"
      ],
      "metadata": {
        "id": "WrnFYSwab1S1"
      },
      "execution_count": 61,
      "outputs": []
    },
    {
      "cell_type": "code",
      "source": [
        "image"
      ],
      "metadata": {
        "colab": {
          "base_uri": "https://localhost:8080/"
        },
        "id": "tXorjt_3b9Md",
        "outputId": "a3e04bc9-6d1a-47ec-d60f-5e93a2ed4441"
      },
      "execution_count": 62,
      "outputs": [
        {
          "output_type": "execute_result",
          "data": {
            "text/plain": [
              "<Response [200]>"
            ]
          },
          "metadata": {},
          "execution_count": 62
        }
      ]
    },
    {
      "cell_type": "code",
      "source": [
        "image_url # image ID"
      ],
      "metadata": {
        "colab": {
          "base_uri": "https://localhost:8080/",
          "height": 35
        },
        "id": "VPxAv-ltcRMV",
        "outputId": "2399594c-4341-4200-829e-18a67205eaba"
      },
      "execution_count": 63,
      "outputs": [
        {
          "output_type": "execute_result",
          "data": {
            "text/plain": [
              "'https://www.pngmart.com/image/114871'"
            ],
            "application/vnd.google.colaboratory.intrinsic+json": {
              "type": "string"
            }
          },
          "metadata": {},
          "execution_count": 63
        }
      ]
    },
    {
      "cell_type": "code",
      "source": [
        "png_url # picture name"
      ],
      "metadata": {
        "colab": {
          "base_uri": "https://localhost:8080/",
          "height": 35
        },
        "id": "05b6oy0QcnXF",
        "outputId": "652b6ca4-e0fa-4c0a-d8aa-c50c4590c144"
      },
      "execution_count": 64,
      "outputs": [
        {
          "output_type": "execute_result",
          "data": {
            "text/plain": [
              "'https://www.pngmart.com/files/7/Savings-PNG-Photo.png'"
            ],
            "application/vnd.google.colaboratory.intrinsic+json": {
              "type": "string"
            }
          },
          "metadata": {},
          "execution_count": 64
        }
      ]
    },
    {
      "cell_type": "code",
      "source": [
        "image_id = image_url.split('/')"
      ],
      "metadata": {
        "id": "VQtgwKTzcuNl"
      },
      "execution_count": 66,
      "outputs": []
    },
    {
      "cell_type": "code",
      "source": [
        "png_url.split('/')[-1]"
      ],
      "metadata": {
        "colab": {
          "base_uri": "https://localhost:8080/",
          "height": 35
        },
        "id": "SURMgNgqc5IM",
        "outputId": "0261e2c5-8bbd-43ac-8547-4fd3bbf0fae6"
      },
      "execution_count": 67,
      "outputs": [
        {
          "output_type": "execute_result",
          "data": {
            "text/plain": [
              "'Savings-PNG-Photo.png'"
            ],
            "application/vnd.google.colaboratory.intrinsic+json": {
              "type": "string"
            }
          },
          "metadata": {},
          "execution_count": 67
        }
      ]
    },
    {
      "cell_type": "code",
      "source": [
        "image_title = image_url.split('/')[-1]+'-'+png_url.split('/')[-1]"
      ],
      "metadata": {
        "id": "0vVBapCbdJaU"
      },
      "execution_count": 76,
      "outputs": []
    },
    {
      "cell_type": "code",
      "source": [
        "image_title"
      ],
      "metadata": {
        "colab": {
          "base_uri": "https://localhost:8080/",
          "height": 35
        },
        "id": "BA1FbS-xde09",
        "outputId": "4bb05586-fcc6-4f00-c3ef-04ff8fe58c70"
      },
      "execution_count": 77,
      "outputs": [
        {
          "output_type": "execute_result",
          "data": {
            "text/plain": [
              "'114871-Savings-PNG-Photo.png'"
            ],
            "application/vnd.google.colaboratory.intrinsic+json": {
              "type": "string"
            }
          },
          "metadata": {},
          "execution_count": 77
        }
      ]
    },
    {
      "cell_type": "code",
      "source": [
        "with open(image_title, 'wb') as file:\n",
        "      file.write(image.content)"
      ],
      "metadata": {
        "id": "UAQP5EYFdiM8"
      },
      "execution_count": 78,
      "outputs": []
    },
    {
      "cell_type": "code",
      "source": [],
      "metadata": {
        "id": "FcX8bEm7eO0M"
      },
      "execution_count": null,
      "outputs": []
    }
  ]
}