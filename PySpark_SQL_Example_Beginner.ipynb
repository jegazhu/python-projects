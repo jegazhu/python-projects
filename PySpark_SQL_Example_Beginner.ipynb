{
  "nbformat": 4,
  "nbformat_minor": 0,
  "metadata": {
    "colab": {
      "provenance": [],
      "authorship_tag": "ABX9TyOEVM1IiMlQRuP/99LQYu8R",
      "include_colab_link": true
    },
    "kernelspec": {
      "name": "python3",
      "display_name": "Python 3"
    },
    "language_info": {
      "name": "python"
    }
  },
  "cells": [
    {
      "cell_type": "markdown",
      "metadata": {
        "id": "view-in-github",
        "colab_type": "text"
      },
      "source": [
        "<a href=\"https://colab.research.google.com/github/jegazhu/python-projects/blob/main/PySpark_SQL_Example_Beginner.ipynb\" target=\"_parent\"><img src=\"https://colab.research.google.com/assets/colab-badge.svg\" alt=\"Open In Colab\"/></a>"
      ]
    },
    {
      "cell_type": "code",
      "execution_count": 4,
      "metadata": {
        "id": "tFtRe_yv8UqJ"
      },
      "outputs": [],
      "source": [
        "import numpy as np\n",
        "import pandas as pd"
      ]
    },
    {
      "cell_type": "code",
      "source": [
        "import os\n",
        "for dirname, _, filenames in os.walk('/content/sample_data/input'):\n",
        "    for filename in filenames:\n",
        "        print(os.path.join(dirname, filename))"
      ],
      "metadata": {
        "colab": {
          "base_uri": "https://localhost:8080/"
        },
        "id": "QPJ5hZMs8gti",
        "outputId": "d46962d3-6d78-446f-fff1-8f0c9bb41790"
      },
      "execution_count": 5,
      "outputs": [
        {
          "output_type": "stream",
          "name": "stdout",
          "text": [
            "/content/sample_data/input/test.csv\n",
            "/content/sample_data/input/gender_submission.csv\n",
            "/content/sample_data/input/train.csv\n"
          ]
        }
      ]
    },
    {
      "cell_type": "code",
      "source": [
        "!pip install pyspark"
      ],
      "metadata": {
        "colab": {
          "base_uri": "https://localhost:8080/"
        },
        "id": "yZJj1lu-9O8f",
        "outputId": "f0d7d40b-71e2-4968-8050-547978c7e1ef"
      },
      "execution_count": 6,
      "outputs": [
        {
          "output_type": "stream",
          "name": "stdout",
          "text": [
            "Looking in indexes: https://pypi.org/simple, https://us-python.pkg.dev/colab-wheels/public/simple/\n",
            "Collecting pyspark\n",
            "  Downloading pyspark-3.3.1.tar.gz (281.4 MB)\n",
            "\u001b[K     |████████████████████████████████| 281.4 MB 43 kB/s \n",
            "\u001b[?25hCollecting py4j==0.10.9.5\n",
            "  Downloading py4j-0.10.9.5-py2.py3-none-any.whl (199 kB)\n",
            "\u001b[K     |████████████████████████████████| 199 kB 63.3 MB/s \n",
            "\u001b[?25hBuilding wheels for collected packages: pyspark\n",
            "  Building wheel for pyspark (setup.py) ... \u001b[?25l\u001b[?25hdone\n",
            "  Created wheel for pyspark: filename=pyspark-3.3.1-py2.py3-none-any.whl size=281845512 sha256=544d18aafb2d4d44ca38abe602b1fc530e5bc8c34866d8cef54e675e678f2da9\n",
            "  Stored in directory: /root/.cache/pip/wheels/43/dc/11/ec201cd671da62fa9c5cc77078235e40722170ceba231d7598\n",
            "Successfully built pyspark\n",
            "Installing collected packages: py4j, pyspark\n",
            "Successfully installed py4j-0.10.9.5 pyspark-3.3.1\n"
          ]
        }
      ]
    },
    {
      "cell_type": "code",
      "source": [
        "!pip install pyarrow"
      ],
      "metadata": {
        "colab": {
          "base_uri": "https://localhost:8080/"
        },
        "id": "uHFYk40d9ndY",
        "outputId": "b71ef069-0e97-4175-fa35-328516f64afc"
      },
      "execution_count": 7,
      "outputs": [
        {
          "output_type": "stream",
          "name": "stdout",
          "text": [
            "Looking in indexes: https://pypi.org/simple, https://us-python.pkg.dev/colab-wheels/public/simple/\n",
            "Requirement already satisfied: pyarrow in /usr/local/lib/python3.8/dist-packages (9.0.0)\n",
            "Requirement already satisfied: numpy>=1.16.6 in /usr/local/lib/python3.8/dist-packages (from pyarrow) (1.21.6)\n"
          ]
        }
      ]
    },
    {
      "cell_type": "code",
      "source": [
        "from pyspark.sql import SparkSession\n",
        "spark = SparkSession.builder.appName('tutorial').getOrCreate()"
      ],
      "metadata": {
        "id": "YTELxejc9uHl"
      },
      "execution_count": 8,
      "outputs": []
    },
    {
      "cell_type": "code",
      "source": [
        "df_train = spark.read.csv('/content/sample_data/input/train.csv', header = True, inferSchema=True)\n",
        "df_test = spark.read.csv('/content/sample_data/input/test.csv', header = True, inferSchema=True)"
      ],
      "metadata": {
        "id": "FWFLJ5DD9zvI"
      },
      "execution_count": 9,
      "outputs": []
    },
    {
      "cell_type": "code",
      "source": [
        "massive_train = df_train.alias(\"massive_train\")"
      ],
      "metadata": {
        "id": "-L6wN5eX-BnL"
      },
      "execution_count": 10,
      "outputs": []
    },
    {
      "cell_type": "code",
      "source": [
        "type(df_train)"
      ],
      "metadata": {
        "colab": {
          "base_uri": "https://localhost:8080/"
        },
        "id": "_T8TBN1M-Yde",
        "outputId": "60ec66bc-4062-4d66-d2e8-212d6238bd85"
      },
      "execution_count": 11,
      "outputs": [
        {
          "output_type": "execute_result",
          "data": {
            "text/plain": [
              "pyspark.sql.dataframe.DataFrame"
            ]
          },
          "metadata": {},
          "execution_count": 11
        }
      ]
    },
    {
      "cell_type": "code",
      "source": [
        "df_train.show()"
      ],
      "metadata": {
        "colab": {
          "base_uri": "https://localhost:8080/"
        },
        "id": "oMO0k4PY-cqm",
        "outputId": "00f39a2d-439c-47d4-8891-e52972357c30"
      },
      "execution_count": 12,
      "outputs": [
        {
          "output_type": "stream",
          "name": "stdout",
          "text": [
            "+-----------+--------+------+--------------------+------+----+-----+-----+----------------+-------+-----+--------+\n",
            "|PassengerId|Survived|Pclass|                Name|   Sex| Age|SibSp|Parch|          Ticket|   Fare|Cabin|Embarked|\n",
            "+-----------+--------+------+--------------------+------+----+-----+-----+----------------+-------+-----+--------+\n",
            "|          1|       0|     3|Braund, Mr. Owen ...|  male|22.0|    1|    0|       A/5 21171|   7.25| null|       S|\n",
            "|          2|       1|     1|Cumings, Mrs. Joh...|female|38.0|    1|    0|        PC 17599|71.2833|  C85|       C|\n",
            "|          3|       1|     3|Heikkinen, Miss. ...|female|26.0|    0|    0|STON/O2. 3101282|  7.925| null|       S|\n",
            "|          4|       1|     1|Futrelle, Mrs. Ja...|female|35.0|    1|    0|          113803|   53.1| C123|       S|\n",
            "|          5|       0|     3|Allen, Mr. Willia...|  male|35.0|    0|    0|          373450|   8.05| null|       S|\n",
            "|          6|       0|     3|    Moran, Mr. James|  male|null|    0|    0|          330877| 8.4583| null|       Q|\n",
            "|          7|       0|     1|McCarthy, Mr. Tim...|  male|54.0|    0|    0|           17463|51.8625|  E46|       S|\n",
            "|          8|       0|     3|Palsson, Master. ...|  male| 2.0|    3|    1|          349909| 21.075| null|       S|\n",
            "|          9|       1|     3|Johnson, Mrs. Osc...|female|27.0|    0|    2|          347742|11.1333| null|       S|\n",
            "|         10|       1|     2|Nasser, Mrs. Nich...|female|14.0|    1|    0|          237736|30.0708| null|       C|\n",
            "|         11|       1|     3|Sandstrom, Miss. ...|female| 4.0|    1|    1|         PP 9549|   16.7|   G6|       S|\n",
            "|         12|       1|     1|Bonnell, Miss. El...|female|58.0|    0|    0|          113783|  26.55| C103|       S|\n",
            "|         13|       0|     3|Saundercock, Mr. ...|  male|20.0|    0|    0|       A/5. 2151|   8.05| null|       S|\n",
            "|         14|       0|     3|Andersson, Mr. An...|  male|39.0|    1|    5|          347082| 31.275| null|       S|\n",
            "|         15|       0|     3|Vestrom, Miss. Hu...|female|14.0|    0|    0|          350406| 7.8542| null|       S|\n",
            "|         16|       1|     2|Hewlett, Mrs. (Ma...|female|55.0|    0|    0|          248706|   16.0| null|       S|\n",
            "|         17|       0|     3|Rice, Master. Eugene|  male| 2.0|    4|    1|          382652| 29.125| null|       Q|\n",
            "|         18|       1|     2|Williams, Mr. Cha...|  male|null|    0|    0|          244373|   13.0| null|       S|\n",
            "|         19|       0|     3|Vander Planke, Mr...|female|31.0|    1|    0|          345763|   18.0| null|       S|\n",
            "|         20|       1|     3|Masselmani, Mrs. ...|female|null|    0|    0|            2649|  7.225| null|       C|\n",
            "+-----------+--------+------+--------------------+------+----+-----+-----+----------------+-------+-----+--------+\n",
            "only showing top 20 rows\n",
            "\n"
          ]
        }
      ]
    },
    {
      "cell_type": "code",
      "source": [
        "df_train.toPandas()"
      ],
      "metadata": {
        "colab": {
          "base_uri": "https://localhost:8080/",
          "height": 589
        },
        "id": "n9WrdYMA-kqe",
        "outputId": "045de873-c58b-42bd-f3e8-544c977cccf2"
      },
      "execution_count": 13,
      "outputs": [
        {
          "output_type": "execute_result",
          "data": {
            "text/plain": [
              "     PassengerId  Survived  Pclass  \\\n",
              "0              1         0       3   \n",
              "1              2         1       1   \n",
              "2              3         1       3   \n",
              "3              4         1       1   \n",
              "4              5         0       3   \n",
              "..           ...       ...     ...   \n",
              "886          887         0       2   \n",
              "887          888         1       1   \n",
              "888          889         0       3   \n",
              "889          890         1       1   \n",
              "890          891         0       3   \n",
              "\n",
              "                                                  Name     Sex   Age  SibSp  \\\n",
              "0                              Braund, Mr. Owen Harris    male  22.0      1   \n",
              "1    Cumings, Mrs. John Bradley (Florence Briggs Th...  female  38.0      1   \n",
              "2                               Heikkinen, Miss. Laina  female  26.0      0   \n",
              "3         Futrelle, Mrs. Jacques Heath (Lily May Peel)  female  35.0      1   \n",
              "4                             Allen, Mr. William Henry    male  35.0      0   \n",
              "..                                                 ...     ...   ...    ...   \n",
              "886                              Montvila, Rev. Juozas    male  27.0      0   \n",
              "887                       Graham, Miss. Margaret Edith  female  19.0      0   \n",
              "888       \"Johnston, Miss. Catherine Helen \"\"Carrie\"\"\"  female   NaN      1   \n",
              "889                              Behr, Mr. Karl Howell    male  26.0      0   \n",
              "890                                Dooley, Mr. Patrick    male  32.0      0   \n",
              "\n",
              "     Parch            Ticket     Fare Cabin Embarked  \n",
              "0        0         A/5 21171   7.2500  None        S  \n",
              "1        0          PC 17599  71.2833   C85        C  \n",
              "2        0  STON/O2. 3101282   7.9250  None        S  \n",
              "3        0            113803  53.1000  C123        S  \n",
              "4        0            373450   8.0500  None        S  \n",
              "..     ...               ...      ...   ...      ...  \n",
              "886      0            211536  13.0000  None        S  \n",
              "887      0            112053  30.0000   B42        S  \n",
              "888      2        W./C. 6607  23.4500  None        S  \n",
              "889      0            111369  30.0000  C148        C  \n",
              "890      0            370376   7.7500  None        Q  \n",
              "\n",
              "[891 rows x 12 columns]"
            ],
            "text/html": [
              "\n",
              "  <div id=\"df-97919e9f-392e-4209-975e-2ea142a00219\">\n",
              "    <div class=\"colab-df-container\">\n",
              "      <div>\n",
              "<style scoped>\n",
              "    .dataframe tbody tr th:only-of-type {\n",
              "        vertical-align: middle;\n",
              "    }\n",
              "\n",
              "    .dataframe tbody tr th {\n",
              "        vertical-align: top;\n",
              "    }\n",
              "\n",
              "    .dataframe thead th {\n",
              "        text-align: right;\n",
              "    }\n",
              "</style>\n",
              "<table border=\"1\" class=\"dataframe\">\n",
              "  <thead>\n",
              "    <tr style=\"text-align: right;\">\n",
              "      <th></th>\n",
              "      <th>PassengerId</th>\n",
              "      <th>Survived</th>\n",
              "      <th>Pclass</th>\n",
              "      <th>Name</th>\n",
              "      <th>Sex</th>\n",
              "      <th>Age</th>\n",
              "      <th>SibSp</th>\n",
              "      <th>Parch</th>\n",
              "      <th>Ticket</th>\n",
              "      <th>Fare</th>\n",
              "      <th>Cabin</th>\n",
              "      <th>Embarked</th>\n",
              "    </tr>\n",
              "  </thead>\n",
              "  <tbody>\n",
              "    <tr>\n",
              "      <th>0</th>\n",
              "      <td>1</td>\n",
              "      <td>0</td>\n",
              "      <td>3</td>\n",
              "      <td>Braund, Mr. Owen Harris</td>\n",
              "      <td>male</td>\n",
              "      <td>22.0</td>\n",
              "      <td>1</td>\n",
              "      <td>0</td>\n",
              "      <td>A/5 21171</td>\n",
              "      <td>7.2500</td>\n",
              "      <td>None</td>\n",
              "      <td>S</td>\n",
              "    </tr>\n",
              "    <tr>\n",
              "      <th>1</th>\n",
              "      <td>2</td>\n",
              "      <td>1</td>\n",
              "      <td>1</td>\n",
              "      <td>Cumings, Mrs. John Bradley (Florence Briggs Th...</td>\n",
              "      <td>female</td>\n",
              "      <td>38.0</td>\n",
              "      <td>1</td>\n",
              "      <td>0</td>\n",
              "      <td>PC 17599</td>\n",
              "      <td>71.2833</td>\n",
              "      <td>C85</td>\n",
              "      <td>C</td>\n",
              "    </tr>\n",
              "    <tr>\n",
              "      <th>2</th>\n",
              "      <td>3</td>\n",
              "      <td>1</td>\n",
              "      <td>3</td>\n",
              "      <td>Heikkinen, Miss. Laina</td>\n",
              "      <td>female</td>\n",
              "      <td>26.0</td>\n",
              "      <td>0</td>\n",
              "      <td>0</td>\n",
              "      <td>STON/O2. 3101282</td>\n",
              "      <td>7.9250</td>\n",
              "      <td>None</td>\n",
              "      <td>S</td>\n",
              "    </tr>\n",
              "    <tr>\n",
              "      <th>3</th>\n",
              "      <td>4</td>\n",
              "      <td>1</td>\n",
              "      <td>1</td>\n",
              "      <td>Futrelle, Mrs. Jacques Heath (Lily May Peel)</td>\n",
              "      <td>female</td>\n",
              "      <td>35.0</td>\n",
              "      <td>1</td>\n",
              "      <td>0</td>\n",
              "      <td>113803</td>\n",
              "      <td>53.1000</td>\n",
              "      <td>C123</td>\n",
              "      <td>S</td>\n",
              "    </tr>\n",
              "    <tr>\n",
              "      <th>4</th>\n",
              "      <td>5</td>\n",
              "      <td>0</td>\n",
              "      <td>3</td>\n",
              "      <td>Allen, Mr. William Henry</td>\n",
              "      <td>male</td>\n",
              "      <td>35.0</td>\n",
              "      <td>0</td>\n",
              "      <td>0</td>\n",
              "      <td>373450</td>\n",
              "      <td>8.0500</td>\n",
              "      <td>None</td>\n",
              "      <td>S</td>\n",
              "    </tr>\n",
              "    <tr>\n",
              "      <th>...</th>\n",
              "      <td>...</td>\n",
              "      <td>...</td>\n",
              "      <td>...</td>\n",
              "      <td>...</td>\n",
              "      <td>...</td>\n",
              "      <td>...</td>\n",
              "      <td>...</td>\n",
              "      <td>...</td>\n",
              "      <td>...</td>\n",
              "      <td>...</td>\n",
              "      <td>...</td>\n",
              "      <td>...</td>\n",
              "    </tr>\n",
              "    <tr>\n",
              "      <th>886</th>\n",
              "      <td>887</td>\n",
              "      <td>0</td>\n",
              "      <td>2</td>\n",
              "      <td>Montvila, Rev. Juozas</td>\n",
              "      <td>male</td>\n",
              "      <td>27.0</td>\n",
              "      <td>0</td>\n",
              "      <td>0</td>\n",
              "      <td>211536</td>\n",
              "      <td>13.0000</td>\n",
              "      <td>None</td>\n",
              "      <td>S</td>\n",
              "    </tr>\n",
              "    <tr>\n",
              "      <th>887</th>\n",
              "      <td>888</td>\n",
              "      <td>1</td>\n",
              "      <td>1</td>\n",
              "      <td>Graham, Miss. Margaret Edith</td>\n",
              "      <td>female</td>\n",
              "      <td>19.0</td>\n",
              "      <td>0</td>\n",
              "      <td>0</td>\n",
              "      <td>112053</td>\n",
              "      <td>30.0000</td>\n",
              "      <td>B42</td>\n",
              "      <td>S</td>\n",
              "    </tr>\n",
              "    <tr>\n",
              "      <th>888</th>\n",
              "      <td>889</td>\n",
              "      <td>0</td>\n",
              "      <td>3</td>\n",
              "      <td>\"Johnston, Miss. Catherine Helen \"\"Carrie\"\"\"</td>\n",
              "      <td>female</td>\n",
              "      <td>NaN</td>\n",
              "      <td>1</td>\n",
              "      <td>2</td>\n",
              "      <td>W./C. 6607</td>\n",
              "      <td>23.4500</td>\n",
              "      <td>None</td>\n",
              "      <td>S</td>\n",
              "    </tr>\n",
              "    <tr>\n",
              "      <th>889</th>\n",
              "      <td>890</td>\n",
              "      <td>1</td>\n",
              "      <td>1</td>\n",
              "      <td>Behr, Mr. Karl Howell</td>\n",
              "      <td>male</td>\n",
              "      <td>26.0</td>\n",
              "      <td>0</td>\n",
              "      <td>0</td>\n",
              "      <td>111369</td>\n",
              "      <td>30.0000</td>\n",
              "      <td>C148</td>\n",
              "      <td>C</td>\n",
              "    </tr>\n",
              "    <tr>\n",
              "      <th>890</th>\n",
              "      <td>891</td>\n",
              "      <td>0</td>\n",
              "      <td>3</td>\n",
              "      <td>Dooley, Mr. Patrick</td>\n",
              "      <td>male</td>\n",
              "      <td>32.0</td>\n",
              "      <td>0</td>\n",
              "      <td>0</td>\n",
              "      <td>370376</td>\n",
              "      <td>7.7500</td>\n",
              "      <td>None</td>\n",
              "      <td>Q</td>\n",
              "    </tr>\n",
              "  </tbody>\n",
              "</table>\n",
              "<p>891 rows × 12 columns</p>\n",
              "</div>\n",
              "      <button class=\"colab-df-convert\" onclick=\"convertToInteractive('df-97919e9f-392e-4209-975e-2ea142a00219')\"\n",
              "              title=\"Convert this dataframe to an interactive table.\"\n",
              "              style=\"display:none;\">\n",
              "        \n",
              "  <svg xmlns=\"http://www.w3.org/2000/svg\" height=\"24px\"viewBox=\"0 0 24 24\"\n",
              "       width=\"24px\">\n",
              "    <path d=\"M0 0h24v24H0V0z\" fill=\"none\"/>\n",
              "    <path d=\"M18.56 5.44l.94 2.06.94-2.06 2.06-.94-2.06-.94-.94-2.06-.94 2.06-2.06.94zm-11 1L8.5 8.5l.94-2.06 2.06-.94-2.06-.94L8.5 2.5l-.94 2.06-2.06.94zm10 10l.94 2.06.94-2.06 2.06-.94-2.06-.94-.94-2.06-.94 2.06-2.06.94z\"/><path d=\"M17.41 7.96l-1.37-1.37c-.4-.4-.92-.59-1.43-.59-.52 0-1.04.2-1.43.59L10.3 9.45l-7.72 7.72c-.78.78-.78 2.05 0 2.83L4 21.41c.39.39.9.59 1.41.59.51 0 1.02-.2 1.41-.59l7.78-7.78 2.81-2.81c.8-.78.8-2.07 0-2.86zM5.41 20L4 18.59l7.72-7.72 1.47 1.35L5.41 20z\"/>\n",
              "  </svg>\n",
              "      </button>\n",
              "      \n",
              "  <style>\n",
              "    .colab-df-container {\n",
              "      display:flex;\n",
              "      flex-wrap:wrap;\n",
              "      gap: 12px;\n",
              "    }\n",
              "\n",
              "    .colab-df-convert {\n",
              "      background-color: #E8F0FE;\n",
              "      border: none;\n",
              "      border-radius: 50%;\n",
              "      cursor: pointer;\n",
              "      display: none;\n",
              "      fill: #1967D2;\n",
              "      height: 32px;\n",
              "      padding: 0 0 0 0;\n",
              "      width: 32px;\n",
              "    }\n",
              "\n",
              "    .colab-df-convert:hover {\n",
              "      background-color: #E2EBFA;\n",
              "      box-shadow: 0px 1px 2px rgba(60, 64, 67, 0.3), 0px 1px 3px 1px rgba(60, 64, 67, 0.15);\n",
              "      fill: #174EA6;\n",
              "    }\n",
              "\n",
              "    [theme=dark] .colab-df-convert {\n",
              "      background-color: #3B4455;\n",
              "      fill: #D2E3FC;\n",
              "    }\n",
              "\n",
              "    [theme=dark] .colab-df-convert:hover {\n",
              "      background-color: #434B5C;\n",
              "      box-shadow: 0px 1px 3px 1px rgba(0, 0, 0, 0.15);\n",
              "      filter: drop-shadow(0px 1px 2px rgba(0, 0, 0, 0.3));\n",
              "      fill: #FFFFFF;\n",
              "    }\n",
              "  </style>\n",
              "\n",
              "      <script>\n",
              "        const buttonEl =\n",
              "          document.querySelector('#df-97919e9f-392e-4209-975e-2ea142a00219 button.colab-df-convert');\n",
              "        buttonEl.style.display =\n",
              "          google.colab.kernel.accessAllowed ? 'block' : 'none';\n",
              "\n",
              "        async function convertToInteractive(key) {\n",
              "          const element = document.querySelector('#df-97919e9f-392e-4209-975e-2ea142a00219');\n",
              "          const dataTable =\n",
              "            await google.colab.kernel.invokeFunction('convertToInteractive',\n",
              "                                                     [key], {});\n",
              "          if (!dataTable) return;\n",
              "\n",
              "          const docLinkHtml = 'Like what you see? Visit the ' +\n",
              "            '<a target=\"_blank\" href=https://colab.research.google.com/notebooks/data_table.ipynb>data table notebook</a>'\n",
              "            + ' to learn more about interactive tables.';\n",
              "          element.innerHTML = '';\n",
              "          dataTable['output_type'] = 'display_data';\n",
              "          await google.colab.output.renderOutput(dataTable, element);\n",
              "          const docLink = document.createElement('div');\n",
              "          docLink.innerHTML = docLinkHtml;\n",
              "          element.appendChild(docLink);\n",
              "        }\n",
              "      </script>\n",
              "    </div>\n",
              "  </div>\n",
              "  "
            ]
          },
          "metadata": {},
          "execution_count": 13
        }
      ]
    },
    {
      "cell_type": "code",
      "source": [
        "result = df_train.describe().toPandas()"
      ],
      "metadata": {
        "id": "O_WRJgs0-vZJ"
      },
      "execution_count": 14,
      "outputs": []
    },
    {
      "cell_type": "code",
      "source": [
        "result"
      ],
      "metadata": {
        "colab": {
          "base_uri": "https://localhost:8080/",
          "height": 322
        },
        "id": "0pB6_urt-zr4",
        "outputId": "3afdfdda-b39a-4636-f1d2-ccd30fb89071"
      },
      "execution_count": 15,
      "outputs": [
        {
          "output_type": "execute_result",
          "data": {
            "text/plain": [
              "  summary        PassengerId             Survived              Pclass  \\\n",
              "0   count                891                  891                 891   \n",
              "1    mean              446.0   0.3838383838383838   2.308641975308642   \n",
              "2  stddev  257.3538420152301  0.48659245426485753  0.8360712409770491   \n",
              "3     min                  1                    0                   1   \n",
              "4     max                891                    1                   3   \n",
              "\n",
              "                                               Name     Sex  \\\n",
              "0                                               891     891   \n",
              "1                                              None    None   \n",
              "2                                              None    None   \n",
              "3  \"Andersson, Mr. August Edvard (\"\"Wennerstrom\"\")\"  female   \n",
              "4                       van Melkebeke, Mr. Philemon    male   \n",
              "\n",
              "                  Age               SibSp                Parch  \\\n",
              "0                 714                 891                  891   \n",
              "1   29.69911764705882  0.5230078563411896  0.38159371492704824   \n",
              "2  14.526497332334035  1.1027434322934315   0.8060572211299488   \n",
              "3                0.42                   0                    0   \n",
              "4                80.0                   8                    6   \n",
              "\n",
              "               Ticket               Fare Cabin Embarked  \n",
              "0                 891                891   204      889  \n",
              "1  260318.54916792738   32.2042079685746  None     None  \n",
              "2  471609.26868834975  49.69342859718089  None     None  \n",
              "3              110152                0.0   A10        C  \n",
              "4           WE/P 5735           512.3292     T        S  "
            ],
            "text/html": [
              "\n",
              "  <div id=\"df-9cb9c1b5-494b-4c8f-93c9-e857c99c8a74\">\n",
              "    <div class=\"colab-df-container\">\n",
              "      <div>\n",
              "<style scoped>\n",
              "    .dataframe tbody tr th:only-of-type {\n",
              "        vertical-align: middle;\n",
              "    }\n",
              "\n",
              "    .dataframe tbody tr th {\n",
              "        vertical-align: top;\n",
              "    }\n",
              "\n",
              "    .dataframe thead th {\n",
              "        text-align: right;\n",
              "    }\n",
              "</style>\n",
              "<table border=\"1\" class=\"dataframe\">\n",
              "  <thead>\n",
              "    <tr style=\"text-align: right;\">\n",
              "      <th></th>\n",
              "      <th>summary</th>\n",
              "      <th>PassengerId</th>\n",
              "      <th>Survived</th>\n",
              "      <th>Pclass</th>\n",
              "      <th>Name</th>\n",
              "      <th>Sex</th>\n",
              "      <th>Age</th>\n",
              "      <th>SibSp</th>\n",
              "      <th>Parch</th>\n",
              "      <th>Ticket</th>\n",
              "      <th>Fare</th>\n",
              "      <th>Cabin</th>\n",
              "      <th>Embarked</th>\n",
              "    </tr>\n",
              "  </thead>\n",
              "  <tbody>\n",
              "    <tr>\n",
              "      <th>0</th>\n",
              "      <td>count</td>\n",
              "      <td>891</td>\n",
              "      <td>891</td>\n",
              "      <td>891</td>\n",
              "      <td>891</td>\n",
              "      <td>891</td>\n",
              "      <td>714</td>\n",
              "      <td>891</td>\n",
              "      <td>891</td>\n",
              "      <td>891</td>\n",
              "      <td>891</td>\n",
              "      <td>204</td>\n",
              "      <td>889</td>\n",
              "    </tr>\n",
              "    <tr>\n",
              "      <th>1</th>\n",
              "      <td>mean</td>\n",
              "      <td>446.0</td>\n",
              "      <td>0.3838383838383838</td>\n",
              "      <td>2.308641975308642</td>\n",
              "      <td>None</td>\n",
              "      <td>None</td>\n",
              "      <td>29.69911764705882</td>\n",
              "      <td>0.5230078563411896</td>\n",
              "      <td>0.38159371492704824</td>\n",
              "      <td>260318.54916792738</td>\n",
              "      <td>32.2042079685746</td>\n",
              "      <td>None</td>\n",
              "      <td>None</td>\n",
              "    </tr>\n",
              "    <tr>\n",
              "      <th>2</th>\n",
              "      <td>stddev</td>\n",
              "      <td>257.3538420152301</td>\n",
              "      <td>0.48659245426485753</td>\n",
              "      <td>0.8360712409770491</td>\n",
              "      <td>None</td>\n",
              "      <td>None</td>\n",
              "      <td>14.526497332334035</td>\n",
              "      <td>1.1027434322934315</td>\n",
              "      <td>0.8060572211299488</td>\n",
              "      <td>471609.26868834975</td>\n",
              "      <td>49.69342859718089</td>\n",
              "      <td>None</td>\n",
              "      <td>None</td>\n",
              "    </tr>\n",
              "    <tr>\n",
              "      <th>3</th>\n",
              "      <td>min</td>\n",
              "      <td>1</td>\n",
              "      <td>0</td>\n",
              "      <td>1</td>\n",
              "      <td>\"Andersson, Mr. August Edvard (\"\"Wennerstrom\"\")\"</td>\n",
              "      <td>female</td>\n",
              "      <td>0.42</td>\n",
              "      <td>0</td>\n",
              "      <td>0</td>\n",
              "      <td>110152</td>\n",
              "      <td>0.0</td>\n",
              "      <td>A10</td>\n",
              "      <td>C</td>\n",
              "    </tr>\n",
              "    <tr>\n",
              "      <th>4</th>\n",
              "      <td>max</td>\n",
              "      <td>891</td>\n",
              "      <td>1</td>\n",
              "      <td>3</td>\n",
              "      <td>van Melkebeke, Mr. Philemon</td>\n",
              "      <td>male</td>\n",
              "      <td>80.0</td>\n",
              "      <td>8</td>\n",
              "      <td>6</td>\n",
              "      <td>WE/P 5735</td>\n",
              "      <td>512.3292</td>\n",
              "      <td>T</td>\n",
              "      <td>S</td>\n",
              "    </tr>\n",
              "  </tbody>\n",
              "</table>\n",
              "</div>\n",
              "      <button class=\"colab-df-convert\" onclick=\"convertToInteractive('df-9cb9c1b5-494b-4c8f-93c9-e857c99c8a74')\"\n",
              "              title=\"Convert this dataframe to an interactive table.\"\n",
              "              style=\"display:none;\">\n",
              "        \n",
              "  <svg xmlns=\"http://www.w3.org/2000/svg\" height=\"24px\"viewBox=\"0 0 24 24\"\n",
              "       width=\"24px\">\n",
              "    <path d=\"M0 0h24v24H0V0z\" fill=\"none\"/>\n",
              "    <path d=\"M18.56 5.44l.94 2.06.94-2.06 2.06-.94-2.06-.94-.94-2.06-.94 2.06-2.06.94zm-11 1L8.5 8.5l.94-2.06 2.06-.94-2.06-.94L8.5 2.5l-.94 2.06-2.06.94zm10 10l.94 2.06.94-2.06 2.06-.94-2.06-.94-.94-2.06-.94 2.06-2.06.94z\"/><path d=\"M17.41 7.96l-1.37-1.37c-.4-.4-.92-.59-1.43-.59-.52 0-1.04.2-1.43.59L10.3 9.45l-7.72 7.72c-.78.78-.78 2.05 0 2.83L4 21.41c.39.39.9.59 1.41.59.51 0 1.02-.2 1.41-.59l7.78-7.78 2.81-2.81c.8-.78.8-2.07 0-2.86zM5.41 20L4 18.59l7.72-7.72 1.47 1.35L5.41 20z\"/>\n",
              "  </svg>\n",
              "      </button>\n",
              "      \n",
              "  <style>\n",
              "    .colab-df-container {\n",
              "      display:flex;\n",
              "      flex-wrap:wrap;\n",
              "      gap: 12px;\n",
              "    }\n",
              "\n",
              "    .colab-df-convert {\n",
              "      background-color: #E8F0FE;\n",
              "      border: none;\n",
              "      border-radius: 50%;\n",
              "      cursor: pointer;\n",
              "      display: none;\n",
              "      fill: #1967D2;\n",
              "      height: 32px;\n",
              "      padding: 0 0 0 0;\n",
              "      width: 32px;\n",
              "    }\n",
              "\n",
              "    .colab-df-convert:hover {\n",
              "      background-color: #E2EBFA;\n",
              "      box-shadow: 0px 1px 2px rgba(60, 64, 67, 0.3), 0px 1px 3px 1px rgba(60, 64, 67, 0.15);\n",
              "      fill: #174EA6;\n",
              "    }\n",
              "\n",
              "    [theme=dark] .colab-df-convert {\n",
              "      background-color: #3B4455;\n",
              "      fill: #D2E3FC;\n",
              "    }\n",
              "\n",
              "    [theme=dark] .colab-df-convert:hover {\n",
              "      background-color: #434B5C;\n",
              "      box-shadow: 0px 1px 3px 1px rgba(0, 0, 0, 0.15);\n",
              "      filter: drop-shadow(0px 1px 2px rgba(0, 0, 0, 0.3));\n",
              "      fill: #FFFFFF;\n",
              "    }\n",
              "  </style>\n",
              "\n",
              "      <script>\n",
              "        const buttonEl =\n",
              "          document.querySelector('#df-9cb9c1b5-494b-4c8f-93c9-e857c99c8a74 button.colab-df-convert');\n",
              "        buttonEl.style.display =\n",
              "          google.colab.kernel.accessAllowed ? 'block' : 'none';\n",
              "\n",
              "        async function convertToInteractive(key) {\n",
              "          const element = document.querySelector('#df-9cb9c1b5-494b-4c8f-93c9-e857c99c8a74');\n",
              "          const dataTable =\n",
              "            await google.colab.kernel.invokeFunction('convertToInteractive',\n",
              "                                                     [key], {});\n",
              "          if (!dataTable) return;\n",
              "\n",
              "          const docLinkHtml = 'Like what you see? Visit the ' +\n",
              "            '<a target=\"_blank\" href=https://colab.research.google.com/notebooks/data_table.ipynb>data table notebook</a>'\n",
              "            + ' to learn more about interactive tables.';\n",
              "          element.innerHTML = '';\n",
              "          dataTable['output_type'] = 'display_data';\n",
              "          await google.colab.output.renderOutput(dataTable, element);\n",
              "          const docLink = document.createElement('div');\n",
              "          docLink.innerHTML = docLinkHtml;\n",
              "          element.appendChild(docLink);\n",
              "        }\n",
              "      </script>\n",
              "    </div>\n",
              "  </div>\n",
              "  "
            ]
          },
          "metadata": {},
          "execution_count": 15
        }
      ]
    },
    {
      "cell_type": "code",
      "source": [
        "df_train.count()"
      ],
      "metadata": {
        "colab": {
          "base_uri": "https://localhost:8080/"
        },
        "id": "4wNDQExY-58K",
        "outputId": "dd50370a-381d-4870-ff22-7a2cb621948d"
      },
      "execution_count": 16,
      "outputs": [
        {
          "output_type": "execute_result",
          "data": {
            "text/plain": [
              "891"
            ]
          },
          "metadata": {},
          "execution_count": 16
        }
      ]
    },
    {
      "cell_type": "code",
      "source": [
        "print(f\"Before: {type(result)}\")\n",
        "spark_temp = spark.createDataFrame(result)\n",
        "print(f\"After: {type(spark_temp)}\")"
      ],
      "metadata": {
        "colab": {
          "base_uri": "https://localhost:8080/"
        },
        "id": "O4iNmEKV-95C",
        "outputId": "cc89afd2-478d-412f-c657-66aa15516d68"
      },
      "execution_count": 17,
      "outputs": [
        {
          "output_type": "stream",
          "name": "stdout",
          "text": [
            "Before: <class 'pandas.core.frame.DataFrame'>\n",
            "After: <class 'pyspark.sql.dataframe.DataFrame'>\n"
          ]
        }
      ]
    },
    {
      "cell_type": "code",
      "source": [
        "df_train.printSchema()"
      ],
      "metadata": {
        "colab": {
          "base_uri": "https://localhost:8080/"
        },
        "id": "5AbU7OwS_aGq",
        "outputId": "a48bbb5a-3c74-4de8-9e20-74e4b1239f43"
      },
      "execution_count": 18,
      "outputs": [
        {
          "output_type": "stream",
          "name": "stdout",
          "text": [
            "root\n",
            " |-- PassengerId: integer (nullable = true)\n",
            " |-- Survived: integer (nullable = true)\n",
            " |-- Pclass: integer (nullable = true)\n",
            " |-- Name: string (nullable = true)\n",
            " |-- Sex: string (nullable = true)\n",
            " |-- Age: double (nullable = true)\n",
            " |-- SibSp: integer (nullable = true)\n",
            " |-- Parch: integer (nullable = true)\n",
            " |-- Ticket: string (nullable = true)\n",
            " |-- Fare: double (nullable = true)\n",
            " |-- Cabin: string (nullable = true)\n",
            " |-- Embarked: string (nullable = true)\n",
            "\n"
          ]
        }
      ]
    },
    {
      "cell_type": "code",
      "source": [
        "df_train.dtypes"
      ],
      "metadata": {
        "colab": {
          "base_uri": "https://localhost:8080/"
        },
        "id": "tDz0fV62_oqW",
        "outputId": "a01e5454-fe37-4a85-ac46-41e8f7e8e1aa"
      },
      "execution_count": 19,
      "outputs": [
        {
          "output_type": "execute_result",
          "data": {
            "text/plain": [
              "[('PassengerId', 'int'),\n",
              " ('Survived', 'int'),\n",
              " ('Pclass', 'int'),\n",
              " ('Name', 'string'),\n",
              " ('Sex', 'string'),\n",
              " ('Age', 'double'),\n",
              " ('SibSp', 'int'),\n",
              " ('Parch', 'int'),\n",
              " ('Ticket', 'string'),\n",
              " ('Fare', 'double'),\n",
              " ('Cabin', 'string'),\n",
              " ('Embarked', 'string')]"
            ]
          },
          "metadata": {},
          "execution_count": 19
        }
      ]
    },
    {
      "cell_type": "code",
      "source": [
        "df_train.createOrReplaceTempView(\"mytmptable\")\n",
        "result = spark.sql(\"select * from mytmptable order by fare desc\")\n",
        "##result.toPandas()\n",
        "result.show()"
      ],
      "metadata": {
        "colab": {
          "base_uri": "https://localhost:8080/"
        },
        "id": "DdpWkXoX_yKy",
        "outputId": "923a0ef1-e032-4567-f2bf-c25fdeb08f48"
      },
      "execution_count": 117,
      "outputs": [
        {
          "output_type": "stream",
          "name": "stdout",
          "text": [
            "+-----------+--------+------+--------------------+------+----+-----+-----+--------+--------+---------------+--------+\n",
            "|PassengerId|Survived|Pclass|                Name|   Sex| Age|SibSp|Parch|  Ticket|    Fare|          Cabin|Embarked|\n",
            "+-----------+--------+------+--------------------+------+----+-----+-----+--------+--------+---------------+--------+\n",
            "|        738|       1|     1|Lesurer, Mr. Gust...|  male|35.0|    0|    0|PC 17755|512.3292|           B101|       C|\n",
            "|        680|       1|     1|Cardeza, Mr. Thom...|  male|36.0|    0|    1|PC 17755|512.3292|    B51 B53 B55|       C|\n",
            "|        259|       1|     1|    Ward, Miss. Anna|female|35.0|    0|    0|PC 17755|512.3292|           null|       C|\n",
            "|        342|       1|     1|Fortune, Miss. Al...|female|24.0|    3|    2|   19950|   263.0|    C23 C25 C27|       S|\n",
            "|        439|       0|     1|   Fortune, Mr. Mark|  male|64.0|    1|    4|   19950|   263.0|    C23 C25 C27|       S|\n",
            "|         28|       0|     1|Fortune, Mr. Char...|  male|19.0|    3|    2|   19950|   263.0|    C23 C25 C27|       S|\n",
            "|         89|       1|     1|Fortune, Miss. Ma...|female|23.0|    3|    2|   19950|   263.0|    C23 C25 C27|       S|\n",
            "|        743|       1|     1|\"Ryerson, Miss. S...|female|21.0|    2|    2|PC 17608| 262.375|B57 B59 B63 B66|       C|\n",
            "|        312|       1|     1|Ryerson, Miss. Em...|female|18.0|    2|    2|PC 17608| 262.375|B57 B59 B63 B66|       C|\n",
            "|        119|       0|     1|Baxter, Mr. Quigg...|  male|24.0|    0|    1|PC 17558|247.5208|        B58 B60|       C|\n",
            "|        300|       1|     1|Baxter, Mrs. Jame...|female|50.0|    0|    1|PC 17558|247.5208|        B58 B60|       C|\n",
            "|        558|       0|     1| Robbins, Mr. Victor|  male|null|    0|    0|PC 17757| 227.525|           null|       C|\n",
            "|        701|       1|     1|Astor, Mrs. John ...|female|18.0|    1|    0|PC 17757| 227.525|        C62 C64|       C|\n",
            "|        717|       1|     1|Endres, Miss. Car...|female|38.0|    0|    0|PC 17757| 227.525|            C45|       C|\n",
            "|        381|       1|     1|Bidois, Miss. Ros...|female|42.0|    0|    0|PC 17757| 227.525|           null|       C|\n",
            "|        528|       0|     1|  Farthing, Mr. John|  male|null|    0|    0|PC 17483|221.7792|            C95|       S|\n",
            "|        378|       0|     1|Widener, Mr. Harr...|  male|27.0|    0|    2|  113503|   211.5|            C82|       C|\n",
            "|        690|       1|     1|Madill, Miss. Geo...|female|15.0|    0|    1|   24160|211.3375|             B5|       S|\n",
            "|        731|       1|     1|Allen, Miss. Elis...|female|29.0|    0|    0|   24160|211.3375|             B5|       S|\n",
            "|        780|       1|     1|Robert, Mrs. Edwa...|female|43.0|    0|    1|   24160|211.3375|             B3|       S|\n",
            "+-----------+--------+------+--------------------+------+----+-----+-----+--------+--------+---------------+--------+\n",
            "only showing top 20 rows\n",
            "\n"
          ]
        }
      ]
    },
    {
      "cell_type": "code",
      "source": [
        "df_test.createOrReplaceTempView(\"df_mytest\")"
      ],
      "metadata": {
        "id": "_5YTNHPIA1WO"
      },
      "execution_count": 25,
      "outputs": []
    },
    {
      "cell_type": "code",
      "source": [
        "spark.catalog.listTables()"
      ],
      "metadata": {
        "colab": {
          "base_uri": "https://localhost:8080/"
        },
        "id": "xTU4Xz5eA82C",
        "outputId": "a9cf8918-9f7a-4057-f295-b5afd3de20dd"
      },
      "execution_count": 26,
      "outputs": [
        {
          "output_type": "execute_result",
          "data": {
            "text/plain": [
              "[Table(name='df_mytest', database=None, description=None, tableType='TEMPORARY', isTemporary=True),\n",
              " Table(name='mytmptable', database=None, description=None, tableType='TEMPORARY', isTemporary=True)]"
            ]
          },
          "metadata": {},
          "execution_count": 26
        }
      ]
    },
    {
      "cell_type": "code",
      "source": [
        "spark.sql(\"show views\").show()\n",
        "##spark.sql(\"show views\").toPandas()"
      ],
      "metadata": {
        "colab": {
          "base_uri": "https://localhost:8080/"
        },
        "id": "DlYoVbLRBH1x",
        "outputId": "0c186423-84e6-4270-8176-c30a80b9c418"
      },
      "execution_count": 30,
      "outputs": [
        {
          "output_type": "stream",
          "name": "stdout",
          "text": [
            "+---------+----------+-----------+\n",
            "|namespace|  viewName|isTemporary|\n",
            "+---------+----------+-----------+\n",
            "|         | df_mytest|       true|\n",
            "|         |mytmptable|       true|\n",
            "+---------+----------+-----------+\n",
            "\n"
          ]
        }
      ]
    },
    {
      "cell_type": "code",
      "source": [
        "tmp_table = spark.table(\"df_mytest\")\n",
        "print(type(tmp_table))\n",
        "tmp_table.show(10)"
      ],
      "metadata": {
        "colab": {
          "base_uri": "https://localhost:8080/"
        },
        "id": "jMKQHVlDBxGZ",
        "outputId": "14369b25-90cc-4f3e-d88f-f3b61c80cc97"
      },
      "execution_count": 32,
      "outputs": [
        {
          "output_type": "stream",
          "name": "stdout",
          "text": [
            "<class 'pyspark.sql.dataframe.DataFrame'>\n",
            "+-----------+------+--------------------+------+----+-----+-----+---------+-------+-----+--------+\n",
            "|PassengerId|Pclass|                Name|   Sex| Age|SibSp|Parch|   Ticket|   Fare|Cabin|Embarked|\n",
            "+-----------+------+--------------------+------+----+-----+-----+---------+-------+-----+--------+\n",
            "|        892|     3|    Kelly, Mr. James|  male|34.5|    0|    0|   330911| 7.8292| null|       Q|\n",
            "|        893|     3|Wilkes, Mrs. Jame...|female|47.0|    1|    0|   363272|    7.0| null|       S|\n",
            "|        894|     2|Myles, Mr. Thomas...|  male|62.0|    0|    0|   240276| 9.6875| null|       Q|\n",
            "|        895|     3|    Wirz, Mr. Albert|  male|27.0|    0|    0|   315154| 8.6625| null|       S|\n",
            "|        896|     3|Hirvonen, Mrs. Al...|female|22.0|    1|    1|  3101298|12.2875| null|       S|\n",
            "|        897|     3|Svensson, Mr. Joh...|  male|14.0|    0|    0|     7538|  9.225| null|       S|\n",
            "|        898|     3|Connolly, Miss. Kate|female|30.0|    0|    0|   330972| 7.6292| null|       Q|\n",
            "|        899|     2|Caldwell, Mr. Alb...|  male|26.0|    1|    1|   248738|   29.0| null|       S|\n",
            "|        900|     3|Abrahim, Mrs. Jos...|female|18.0|    0|    0|     2657| 7.2292| null|       C|\n",
            "|        901|     3|Davies, Mr. John ...|  male|21.0|    2|    0|A/4 48871|  24.15| null|       S|\n",
            "+-----------+------+--------------------+------+----+-----+-----+---------+-------+-----+--------+\n",
            "only showing top 10 rows\n",
            "\n"
          ]
        }
      ]
    },
    {
      "cell_type": "code",
      "source": [
        "df_train.columns"
      ],
      "metadata": {
        "colab": {
          "base_uri": "https://localhost:8080/"
        },
        "id": "BY_uwNlaCNyu",
        "outputId": "f808ecb4-fa2c-4595-d0ce-f550fb71ad07"
      },
      "execution_count": 33,
      "outputs": [
        {
          "output_type": "execute_result",
          "data": {
            "text/plain": [
              "['PassengerId',\n",
              " 'Survived',\n",
              " 'Pclass',\n",
              " 'Name',\n",
              " 'Sex',\n",
              " 'Age',\n",
              " 'SibSp',\n",
              " 'Parch',\n",
              " 'Ticket',\n",
              " 'Fare',\n",
              " 'Cabin',\n",
              " 'Embarked']"
            ]
          },
          "metadata": {},
          "execution_count": 33
        }
      ]
    },
    {
      "cell_type": "code",
      "source": [
        "#df_train['Age']\n",
        "#df_train.Age\n",
        "type(df_train['Age'])"
      ],
      "metadata": {
        "colab": {
          "base_uri": "https://localhost:8080/"
        },
        "id": "TLdeegzQCWOE",
        "outputId": "f3ded82e-8b7c-4aed-a3b8-9edbc79b21f4"
      },
      "execution_count": 37,
      "outputs": [
        {
          "output_type": "execute_result",
          "data": {
            "text/plain": [
              "pyspark.sql.column.Column"
            ]
          },
          "metadata": {},
          "execution_count": 37
        }
      ]
    },
    {
      "cell_type": "code",
      "source": [
        "#df_train.select('Age').show()\n",
        "#df_train.select(['Age','Fare']).show()\n",
        "df_train[df_train.Age, df_train.Fare].show()"
      ],
      "metadata": {
        "colab": {
          "base_uri": "https://localhost:8080/"
        },
        "id": "nrHdo47EC570",
        "outputId": "555a9d6c-1d02-4d76-d609-f437055f6cfb"
      },
      "execution_count": 47,
      "outputs": [
        {
          "output_type": "stream",
          "name": "stdout",
          "text": [
            "+----+-------+\n",
            "| Age|   Fare|\n",
            "+----+-------+\n",
            "|22.0|   7.25|\n",
            "|38.0|71.2833|\n",
            "|26.0|  7.925|\n",
            "|35.0|   53.1|\n",
            "|35.0|   8.05|\n",
            "|null| 8.4583|\n",
            "|54.0|51.8625|\n",
            "| 2.0| 21.075|\n",
            "|27.0|11.1333|\n",
            "|14.0|30.0708|\n",
            "| 4.0|   16.7|\n",
            "|58.0|  26.55|\n",
            "|20.0|   8.05|\n",
            "|39.0| 31.275|\n",
            "|14.0| 7.8542|\n",
            "|55.0|   16.0|\n",
            "| 2.0| 29.125|\n",
            "|null|   13.0|\n",
            "|31.0|   18.0|\n",
            "|null|  7.225|\n",
            "+----+-------+\n",
            "only showing top 20 rows\n",
            "\n"
          ]
        }
      ]
    },
    {
      "cell_type": "code",
      "source": [
        "#df_train.head(1)\n",
        "#type(df_train.head(1))\n",
        "row = df_train.head(1)[0]\n",
        "row\n",
        "type(row)\n",
        "row.asDict()\n",
        "row.asDict()['PassengerId']\n",
        "row.asDict()['Name']"
      ],
      "metadata": {
        "colab": {
          "base_uri": "https://localhost:8080/",
          "height": 35
        },
        "id": "VcPutLCuFP5r",
        "outputId": "a1e4f29b-5ac0-4fba-be98-9eeebdd7ac9f"
      },
      "execution_count": 60,
      "outputs": [
        {
          "output_type": "execute_result",
          "data": {
            "text/plain": [
              "'Braund, Mr. Owen Harris'"
            ],
            "application/vnd.google.colaboratory.intrinsic+json": {
              "type": "string"
            }
          },
          "metadata": {},
          "execution_count": 60
        }
      ]
    },
    {
      "cell_type": "code",
      "source": [
        "#df_train.withColumnRenamed(\"Age\",\"NAge\").limit(5).toPandas()\n",
        "df_train.withColumnRenamed(\"Age\",\"NAge\").limit(5).show()"
      ],
      "metadata": {
        "colab": {
          "base_uri": "https://localhost:8080/"
        },
        "id": "zuRh3fffGCOi",
        "outputId": "5af963a1-de3b-42cc-a7db-5c698f93c51a"
      },
      "execution_count": 63,
      "outputs": [
        {
          "output_type": "stream",
          "name": "stdout",
          "text": [
            "+-----------+--------+------+--------------------+------+----+-----+-----+----------------+-------+-----+--------+\n",
            "|PassengerId|Survived|Pclass|                Name|   Sex|NAge|SibSp|Parch|          Ticket|   Fare|Cabin|Embarked|\n",
            "+-----------+--------+------+--------------------+------+----+-----+-----+----------------+-------+-----+--------+\n",
            "|          1|       0|     3|Braund, Mr. Owen ...|  male|22.0|    1|    0|       A/5 21171|   7.25| null|       S|\n",
            "|          2|       1|     1|Cumings, Mrs. Joh...|female|38.0|    1|    0|        PC 17599|71.2833|  C85|       C|\n",
            "|          3|       1|     3|Heikkinen, Miss. ...|female|26.0|    0|    0|STON/O2. 3101282|  7.925| null|       S|\n",
            "|          4|       1|     1|Futrelle, Mrs. Ja...|female|35.0|    1|    0|          113803|   53.1| C123|       S|\n",
            "|          5|       0|     3|Allen, Mr. Willia...|  male|35.0|    0|    0|          373450|   8.05| null|       S|\n",
            "+-----------+--------+------+--------------------+------+----+-----+-----+----------------+-------+-----+--------+\n",
            "\n"
          ]
        }
      ]
    },
    {
      "cell_type": "code",
      "source": [
        "df_train.withColumn('Fare',df_train['Fare']+20).limit(5).show()"
      ],
      "metadata": {
        "colab": {
          "base_uri": "https://localhost:8080/"
        },
        "id": "Y-lDvPmfHBDs",
        "outputId": "010549a1-d276-484e-f9a7-7af94dc3421b"
      },
      "execution_count": 67,
      "outputs": [
        {
          "output_type": "stream",
          "name": "stdout",
          "text": [
            "+-----------+--------+------+--------------------+------+----+-----+-----+----------------+-------+-----+--------+\n",
            "|PassengerId|Survived|Pclass|                Name|   Sex| Age|SibSp|Parch|          Ticket|   Fare|Cabin|Embarked|\n",
            "+-----------+--------+------+--------------------+------+----+-----+-----+----------------+-------+-----+--------+\n",
            "|          1|       0|     3|Braund, Mr. Owen ...|  male|22.0|    1|    0|       A/5 21171|  27.25| null|       S|\n",
            "|          2|       1|     1|Cumings, Mrs. Joh...|female|38.0|    1|    0|        PC 17599|91.2833|  C85|       C|\n",
            "|          3|       1|     3|Heikkinen, Miss. ...|female|26.0|    0|    0|STON/O2. 3101282| 27.925| null|       S|\n",
            "|          4|       1|     1|Futrelle, Mrs. Ja...|female|35.0|    1|    0|          113803|   73.1| C123|       S|\n",
            "|          5|       0|     3|Allen, Mr. Willia...|  male|35.0|    0|    0|          373450|  28.05| null|       S|\n",
            "+-----------+--------+------+--------------------+------+----+-----+-----+----------------+-------+-----+--------+\n",
            "\n"
          ]
        }
      ]
    },
    {
      "cell_type": "code",
      "source": [
        "from pyspark.sql.functions import mean\n",
        "fare_mean = df_train.select(mean(\"Fare\")).collect()\n",
        "fare_mean[0][0]"
      ],
      "metadata": {
        "colab": {
          "base_uri": "https://localhost:8080/"
        },
        "id": "CCLLcdrfH8Ax",
        "outputId": "c26c5e4e-c795-4122-9d55-1b61d61bd27e"
      },
      "execution_count": 98,
      "outputs": [
        {
          "output_type": "execute_result",
          "data": {
            "text/plain": [
              "32.2042079685746"
            ]
          },
          "metadata": {},
          "execution_count": 98
        }
      ]
    },
    {
      "cell_type": "code",
      "source": [
        "#df_train.filter(\"Fare < 32.20\").limit(10).show()\n",
        "#df_train.filter(\"Fare >= 32.20\").limit(10).show()\n",
        "df_train[df_train.Fare < 32.20].limit(10).show()"
      ],
      "metadata": {
        "colab": {
          "base_uri": "https://localhost:8080/"
        },
        "id": "NZvOGzMsIunV",
        "outputId": "2b6ea84c-d057-411c-e425-be7778a498c2"
      },
      "execution_count": 100,
      "outputs": [
        {
          "output_type": "stream",
          "name": "stdout",
          "text": [
            "+-----------+--------+------+--------------------+------+----+-----+-----+----------------+-------+-----+--------+\n",
            "|PassengerId|Survived|Pclass|                Name|   Sex| Age|SibSp|Parch|          Ticket|   Fare|Cabin|Embarked|\n",
            "+-----------+--------+------+--------------------+------+----+-----+-----+----------------+-------+-----+--------+\n",
            "|          1|       0|     3|Braund, Mr. Owen ...|  male|22.0|    1|    0|       A/5 21171|   7.25| null|       S|\n",
            "|          3|       1|     3|Heikkinen, Miss. ...|female|26.0|    0|    0|STON/O2. 3101282|  7.925| null|       S|\n",
            "|          5|       0|     3|Allen, Mr. Willia...|  male|35.0|    0|    0|          373450|   8.05| null|       S|\n",
            "|          6|       0|     3|    Moran, Mr. James|  male|null|    0|    0|          330877| 8.4583| null|       Q|\n",
            "|          8|       0|     3|Palsson, Master. ...|  male| 2.0|    3|    1|          349909| 21.075| null|       S|\n",
            "|          9|       1|     3|Johnson, Mrs. Osc...|female|27.0|    0|    2|          347742|11.1333| null|       S|\n",
            "|         10|       1|     2|Nasser, Mrs. Nich...|female|14.0|    1|    0|          237736|30.0708| null|       C|\n",
            "|         11|       1|     3|Sandstrom, Miss. ...|female| 4.0|    1|    1|         PP 9549|   16.7|   G6|       S|\n",
            "|         12|       1|     1|Bonnell, Miss. El...|female|58.0|    0|    0|          113783|  26.55| C103|       S|\n",
            "|         13|       0|     3|Saundercock, Mr. ...|  male|20.0|    0|    0|       A/5. 2151|   8.05| null|       S|\n",
            "+-----------+--------+------+--------------------+------+----+-----+-----+----------------+-------+-----+--------+\n",
            "\n"
          ]
        }
      ]
    },
    {
      "cell_type": "code",
      "source": [
        "tmp_df = df_train.filter((df_train['Fare'] < 32.20) & \n",
        "                         (df_train['Sex'] ==  'male'))\n",
        "tmp_df.show(5)\n",
        "#----------------------------------------------------------\n",
        "df_train[(df_train.Fare < 32.20) & \n",
        "         (df_train.Sex == \"male\")].show(5)"
      ],
      "metadata": {
        "colab": {
          "base_uri": "https://localhost:8080/"
        },
        "id": "LhLs6s17LNiT",
        "outputId": "645eea4e-0f8e-439d-d8e4-0b3f057c51f5"
      },
      "execution_count": 96,
      "outputs": [
        {
          "output_type": "stream",
          "name": "stdout",
          "text": [
            "+-----------+--------+------+--------------------+----+----+-----+-----+---------+------+-----+--------+\n",
            "|PassengerId|Survived|Pclass|                Name| Sex| Age|SibSp|Parch|   Ticket|  Fare|Cabin|Embarked|\n",
            "+-----------+--------+------+--------------------+----+----+-----+-----+---------+------+-----+--------+\n",
            "|          1|       0|     3|Braund, Mr. Owen ...|male|22.0|    1|    0|A/5 21171|  7.25| null|       S|\n",
            "|          5|       0|     3|Allen, Mr. Willia...|male|35.0|    0|    0|   373450|  8.05| null|       S|\n",
            "|          6|       0|     3|    Moran, Mr. James|male|null|    0|    0|   330877|8.4583| null|       Q|\n",
            "|          8|       0|     3|Palsson, Master. ...|male| 2.0|    3|    1|   349909|21.075| null|       S|\n",
            "|         13|       0|     3|Saundercock, Mr. ...|male|20.0|    0|    0|A/5. 2151|  8.05| null|       S|\n",
            "+-----------+--------+------+--------------------+----+----+-----+-----+---------+------+-----+--------+\n",
            "only showing top 5 rows\n",
            "\n",
            "+-----------+--------+------+--------------------+----+----+-----+-----+---------+------+-----+--------+\n",
            "|PassengerId|Survived|Pclass|                Name| Sex| Age|SibSp|Parch|   Ticket|  Fare|Cabin|Embarked|\n",
            "+-----------+--------+------+--------------------+----+----+-----+-----+---------+------+-----+--------+\n",
            "|          1|       0|     3|Braund, Mr. Owen ...|male|22.0|    1|    0|A/5 21171|  7.25| null|       S|\n",
            "|          5|       0|     3|Allen, Mr. Willia...|male|35.0|    0|    0|   373450|  8.05| null|       S|\n",
            "|          6|       0|     3|    Moran, Mr. James|male|null|    0|    0|   330877|8.4583| null|       Q|\n",
            "|          8|       0|     3|Palsson, Master. ...|male| 2.0|    3|    1|   349909|21.075| null|       S|\n",
            "|         13|       0|     3|Saundercock, Mr. ...|male|20.0|    0|    0|A/5. 2151|  8.05| null|       S|\n",
            "+-----------+--------+------+--------------------+----+----+-----+-----+---------+------+-----+--------+\n",
            "only showing top 5 rows\n",
            "\n"
          ]
        }
      ]
    },
    {
      "cell_type": "code",
      "source": [
        "filter1_less_than_mean_fare = df_train['Fare'] < 32.20\n",
        "filter2_sex_not_male = df_train['Sex'] != \"male\"\n",
        "df_train.filter((filter1_less_than_mean_fare) &\n",
        "                (filter2_sex_not_male)).show(10)"
      ],
      "metadata": {
        "colab": {
          "base_uri": "https://localhost:8080/"
        },
        "id": "Dn5pTVkWMBFw",
        "outputId": "b24eecb1-bfef-46ea-befe-d8e9d615f930"
      },
      "execution_count": 97,
      "outputs": [
        {
          "output_type": "stream",
          "name": "stdout",
          "text": [
            "+-----------+--------+------+--------------------+------+----+-----+-----+----------------+-------+-----+--------+\n",
            "|PassengerId|Survived|Pclass|                Name|   Sex| Age|SibSp|Parch|          Ticket|   Fare|Cabin|Embarked|\n",
            "+-----------+--------+------+--------------------+------+----+-----+-----+----------------+-------+-----+--------+\n",
            "|          3|       1|     3|Heikkinen, Miss. ...|female|26.0|    0|    0|STON/O2. 3101282|  7.925| null|       S|\n",
            "|          9|       1|     3|Johnson, Mrs. Osc...|female|27.0|    0|    2|          347742|11.1333| null|       S|\n",
            "|         10|       1|     2|Nasser, Mrs. Nich...|female|14.0|    1|    0|          237736|30.0708| null|       C|\n",
            "|         11|       1|     3|Sandstrom, Miss. ...|female| 4.0|    1|    1|         PP 9549|   16.7|   G6|       S|\n",
            "|         12|       1|     1|Bonnell, Miss. El...|female|58.0|    0|    0|          113783|  26.55| C103|       S|\n",
            "|         15|       0|     3|Vestrom, Miss. Hu...|female|14.0|    0|    0|          350406| 7.8542| null|       S|\n",
            "|         16|       1|     2|Hewlett, Mrs. (Ma...|female|55.0|    0|    0|          248706|   16.0| null|       S|\n",
            "|         19|       0|     3|Vander Planke, Mr...|female|31.0|    1|    0|          345763|   18.0| null|       S|\n",
            "|         20|       1|     3|Masselmani, Mrs. ...|female|null|    0|    0|            2649|  7.225| null|       C|\n",
            "|         23|       1|     3|\"McGowan, Miss. A...|female|15.0|    0|    0|          330923| 8.0292| null|       Q|\n",
            "+-----------+--------+------+--------------------+------+----+-----+-----+----------------+-------+-----+--------+\n",
            "only showing top 10 rows\n",
            "\n"
          ]
        }
      ]
    },
    {
      "cell_type": "code",
      "source": [
        "df_train.select(\"PassengerId\", \"Fare\").filter(df_train.Fare.between(20,80)).show()"
      ],
      "metadata": {
        "colab": {
          "base_uri": "https://localhost:8080/"
        },
        "id": "-0kX8rOTMRF_",
        "outputId": "c89dc221-2e59-4b11-96a1-f6b3aeb746c5"
      },
      "execution_count": 102,
      "outputs": [
        {
          "output_type": "stream",
          "name": "stdout",
          "text": [
            "+-----------+-------+\n",
            "|PassengerId|   Fare|\n",
            "+-----------+-------+\n",
            "|          2|71.2833|\n",
            "|          4|   53.1|\n",
            "|          7|51.8625|\n",
            "|          8| 21.075|\n",
            "|         10|30.0708|\n",
            "|         12|  26.55|\n",
            "|         14| 31.275|\n",
            "|         17| 29.125|\n",
            "|         21|   26.0|\n",
            "|         24|   35.5|\n",
            "|         25| 21.075|\n",
            "|         26|31.3875|\n",
            "|         31|27.7208|\n",
            "|         36|   52.0|\n",
            "|         42|   21.0|\n",
            "|         44|41.5792|\n",
            "|         49|21.6792|\n",
            "|         51|39.6875|\n",
            "|         53|76.7292|\n",
            "|         54|   26.0|\n",
            "+-----------+-------+\n",
            "only showing top 20 rows\n",
            "\n"
          ]
        }
      ]
    },
    {
      "cell_type": "code",
      "source": [
        "df_train.select(\"PassengerID\", df_train.Fare.between(20,80)).show()"
      ],
      "metadata": {
        "colab": {
          "base_uri": "https://localhost:8080/"
        },
        "id": "HPizv9qwYPor",
        "outputId": "5e14287c-b27a-401f-88d3-1a7cc647d80a"
      },
      "execution_count": 104,
      "outputs": [
        {
          "output_type": "stream",
          "name": "stdout",
          "text": [
            "+-----------+-------------------------------+\n",
            "|PassengerID|((Fare >= 20) AND (Fare <= 80))|\n",
            "+-----------+-------------------------------+\n",
            "|          1|                          false|\n",
            "|          2|                           true|\n",
            "|          3|                          false|\n",
            "|          4|                           true|\n",
            "|          5|                          false|\n",
            "|          6|                          false|\n",
            "|          7|                           true|\n",
            "|          8|                           true|\n",
            "|          9|                          false|\n",
            "|         10|                           true|\n",
            "|         11|                          false|\n",
            "|         12|                           true|\n",
            "|         13|                          false|\n",
            "|         14|                           true|\n",
            "|         15|                          false|\n",
            "|         16|                          false|\n",
            "|         17|                           true|\n",
            "|         18|                          false|\n",
            "|         19|                          false|\n",
            "|         20|                          false|\n",
            "+-----------+-------------------------------+\n",
            "only showing top 20 rows\n",
            "\n"
          ]
        }
      ]
    },
    {
      "cell_type": "code",
      "source": [
        "df_train.select(\"PassengerId\", \"Name\").filter(df_train.Name.contains(\"Mr\")).show()\n",
        "df_train.select(\"PassengerId\", \"Name\").filter(df_train.Name.contains(\"Mrs\")).show()"
      ],
      "metadata": {
        "colab": {
          "base_uri": "https://localhost:8080/"
        },
        "id": "-ZU9xPxcYeQZ",
        "outputId": "35ee1109-78d2-46a3-b1be-ab8e22a1d757"
      },
      "execution_count": 107,
      "outputs": [
        {
          "output_type": "stream",
          "name": "stdout",
          "text": [
            "+-----------+--------------------+\n",
            "|PassengerId|                Name|\n",
            "+-----------+--------------------+\n",
            "|          1|Braund, Mr. Owen ...|\n",
            "|          2|Cumings, Mrs. Joh...|\n",
            "|          4|Futrelle, Mrs. Ja...|\n",
            "|          5|Allen, Mr. Willia...|\n",
            "|          6|    Moran, Mr. James|\n",
            "|          7|McCarthy, Mr. Tim...|\n",
            "|          9|Johnson, Mrs. Osc...|\n",
            "|         10|Nasser, Mrs. Nich...|\n",
            "|         13|Saundercock, Mr. ...|\n",
            "|         14|Andersson, Mr. An...|\n",
            "|         16|Hewlett, Mrs. (Ma...|\n",
            "|         18|Williams, Mr. Cha...|\n",
            "|         19|Vander Planke, Mr...|\n",
            "|         20|Masselmani, Mrs. ...|\n",
            "|         21|Fynney, Mr. Joseph J|\n",
            "|         22|Beesley, Mr. Lawr...|\n",
            "|         24|Sloper, Mr. Willi...|\n",
            "|         26|Asplund, Mrs. Car...|\n",
            "|         27|Emir, Mr. Farred ...|\n",
            "|         28|Fortune, Mr. Char...|\n",
            "+-----------+--------------------+\n",
            "only showing top 20 rows\n",
            "\n",
            "+-----------+--------------------+\n",
            "|PassengerId|                Name|\n",
            "+-----------+--------------------+\n",
            "|          2|Cumings, Mrs. Joh...|\n",
            "|          4|Futrelle, Mrs. Ja...|\n",
            "|          9|Johnson, Mrs. Osc...|\n",
            "|         10|Nasser, Mrs. Nich...|\n",
            "|         16|Hewlett, Mrs. (Ma...|\n",
            "|         19|Vander Planke, Mr...|\n",
            "|         20|Masselmani, Mrs. ...|\n",
            "|         26|Asplund, Mrs. Car...|\n",
            "|         32|Spencer, Mrs. Wil...|\n",
            "|         41|Ahlin, Mrs. Johan...|\n",
            "|         42|Turpin, Mrs. Will...|\n",
            "|         50|Arnold-Franchi, M...|\n",
            "|         53|Harper, Mrs. Henr...|\n",
            "|         54|Faunthorpe, Mrs. ...|\n",
            "|         67|Nye, Mrs. (Elizab...|\n",
            "|         86|Backstrom, Mrs. K...|\n",
            "|         99|Doling, Mrs. John...|\n",
            "|        133|Robins, Mrs. Alex...|\n",
            "|        134|Weisz, Mrs. Leopo...|\n",
            "|        141|Boulos, Mrs. Jose...|\n",
            "+-----------+--------------------+\n",
            "only showing top 20 rows\n",
            "\n"
          ]
        }
      ]
    },
    {
      "cell_type": "code",
      "source": [
        "df_train.select(\"PassengerID\", 'Sex').filter(df_train.Sex.startswith(\"m\")).show()\n",
        "df_train.select(\"PassengerID\", 'Sex').filter(df_train.Sex.startswith(\"f\")).show()"
      ],
      "metadata": {
        "colab": {
          "base_uri": "https://localhost:8080/"
        },
        "id": "8aoMDjU2Ysxr",
        "outputId": "7307801c-9bfa-4f07-e626-09d6ac47a60a"
      },
      "execution_count": 110,
      "outputs": [
        {
          "output_type": "stream",
          "name": "stdout",
          "text": [
            "+-----------+----+\n",
            "|PassengerID| Sex|\n",
            "+-----------+----+\n",
            "|          1|male|\n",
            "|          5|male|\n",
            "|          6|male|\n",
            "|          7|male|\n",
            "|          8|male|\n",
            "|         13|male|\n",
            "|         14|male|\n",
            "|         17|male|\n",
            "|         18|male|\n",
            "|         21|male|\n",
            "|         22|male|\n",
            "|         24|male|\n",
            "|         27|male|\n",
            "|         28|male|\n",
            "|         30|male|\n",
            "|         31|male|\n",
            "|         34|male|\n",
            "|         35|male|\n",
            "|         36|male|\n",
            "|         37|male|\n",
            "+-----------+----+\n",
            "only showing top 20 rows\n",
            "\n",
            "+-----------+------+\n",
            "|PassengerID|   Sex|\n",
            "+-----------+------+\n",
            "|          2|female|\n",
            "|          3|female|\n",
            "|          4|female|\n",
            "|          9|female|\n",
            "|         10|female|\n",
            "|         11|female|\n",
            "|         12|female|\n",
            "|         15|female|\n",
            "|         16|female|\n",
            "|         19|female|\n",
            "|         20|female|\n",
            "|         23|female|\n",
            "|         25|female|\n",
            "|         26|female|\n",
            "|         29|female|\n",
            "|         32|female|\n",
            "|         33|female|\n",
            "|         39|female|\n",
            "|         40|female|\n",
            "|         41|female|\n",
            "+-----------+------+\n",
            "only showing top 20 rows\n",
            "\n"
          ]
        }
      ]
    },
    {
      "cell_type": "code",
      "source": [
        "df_train.select(\"PassengerID\", 'Ticket').filter(df_train.Ticket.endswith(\"5\")).show()"
      ],
      "metadata": {
        "colab": {
          "base_uri": "https://localhost:8080/"
        },
        "id": "uNwGLLXPY2Ms",
        "outputId": "d54aeefb-969b-4333-bbbe-2c5efbd0e995"
      },
      "execution_count": 114,
      "outputs": [
        {
          "output_type": "stream",
          "name": "stdout",
          "text": [
            "+-----------+----------+\n",
            "|PassengerID|    Ticket|\n",
            "+-----------+----------+\n",
            "|         21|    239865|\n",
            "|         51|   3101295|\n",
            "|         65|  PC 17605|\n",
            "|         67|C.A. 29395|\n",
            "|         85|SO/C 14885|\n",
            "|         90|    343275|\n",
            "|         94| C.A. 2315|\n",
            "|        101|    349245|\n",
            "|        102|    349215|\n",
            "|        111|    110465|\n",
            "|        112|      2665|\n",
            "|        145|    231945|\n",
            "|        162|C.A. 33595|\n",
            "|        165|   3101295|\n",
            "|        167|    113505|\n",
            "|        178|  PC 17595|\n",
            "|        187|    370365|\n",
            "|        239|     28665|\n",
            "|        240|SCO/W 1585|\n",
            "|        241|      2665|\n",
            "+-----------+----------+\n",
            "only showing top 20 rows\n",
            "\n"
          ]
        }
      ]
    },
    {
      "cell_type": "code",
      "source": [
        "df_train[df_train.PassengerId.isin([1,2,3])].show()"
      ],
      "metadata": {
        "colab": {
          "base_uri": "https://localhost:8080/"
        },
        "id": "BB0yhmc9ZCvy",
        "outputId": "27013b4c-3ce1-4864-b812-1351f19081b2"
      },
      "execution_count": 115,
      "outputs": [
        {
          "output_type": "stream",
          "name": "stdout",
          "text": [
            "+-----------+--------+------+--------------------+------+----+-----+-----+----------------+-------+-----+--------+\n",
            "|PassengerId|Survived|Pclass|                Name|   Sex| Age|SibSp|Parch|          Ticket|   Fare|Cabin|Embarked|\n",
            "+-----------+--------+------+--------------------+------+----+-----+-----+----------------+-------+-----+--------+\n",
            "|          1|       0|     3|Braund, Mr. Owen ...|  male|22.0|    1|    0|       A/5 21171|   7.25| null|       S|\n",
            "|          2|       1|     1|Cumings, Mrs. Joh...|female|38.0|    1|    0|        PC 17599|71.2833|  C85|       C|\n",
            "|          3|       1|     3|Heikkinen, Miss. ...|female|26.0|    0|    0|STON/O2. 3101282|  7.925| null|       S|\n",
            "+-----------+--------+------+--------------------+------+----+-----+-----+----------------+-------+-----+--------+\n",
            "\n"
          ]
        }
      ]
    },
    {
      "cell_type": "code",
      "source": [
        "df_train[df_train.Name.like(\"F%\")].show()"
      ],
      "metadata": {
        "colab": {
          "base_uri": "https://localhost:8080/"
        },
        "id": "qtg-yI0fZdPw",
        "outputId": "3d2788a1-cdfe-4420-d98f-83c87e08bd1a"
      },
      "execution_count": 118,
      "outputs": [
        {
          "output_type": "stream",
          "name": "stdout",
          "text": [
            "+-----------+--------+------+--------------------+------+----+-----+-----+----------+--------+-----------+--------+\n",
            "|PassengerId|Survived|Pclass|                Name|   Sex| Age|SibSp|Parch|    Ticket|    Fare|      Cabin|Embarked|\n",
            "+-----------+--------+------+--------------------+------+----+-----+-----+----------+--------+-----------+--------+\n",
            "|          4|       1|     1|Futrelle, Mrs. Ja...|female|35.0|    1|    0|    113803|    53.1|       C123|       S|\n",
            "|         21|       0|     2|Fynney, Mr. Joseph J|  male|35.0|    0|    0|    239865|    26.0|       null|       S|\n",
            "|         28|       0|     1|Fortune, Mr. Char...|  male|19.0|    3|    2|     19950|   263.0|C23 C25 C27|       S|\n",
            "|         54|       1|     2|Faunthorpe, Mrs. ...|female|29.0|    1|    0|      2926|    26.0|       null|       S|\n",
            "|         87|       0|     3|Ford, Mr. William...|  male|16.0|    1|    3|W./C. 6608|  34.375|       null|       S|\n",
            "|         89|       1|     1|Fortune, Miss. Ma...|female|23.0|    3|    2|     19950|   263.0|C23 C25 C27|       S|\n",
            "|        138|       0|     1|Futrelle, Mr. Jac...|  male|37.0|    1|    0|    113803|    53.1|       C123|       S|\n",
            "|        229|       0|     2|Fahlstrom, Mr. Ar...|  male|18.0|    0|    0|    236171|    13.0|       null|       S|\n",
            "|        307|       1|     1|Fleming, Miss. Ma...|female|null|    0|    0|     17421|110.8833|       null|       C|\n",
            "|        310|       1|     1|Francatelli, Miss...|female|30.0|    0|    0|  PC 17485| 56.9292|        E36|       C|\n",
            "|        335|       1|     1|Frauenthal, Mrs. ...|female|null|    1|    0|  PC 17611|  133.65|       null|       S|\n",
            "|        342|       1|     1|Fortune, Miss. Al...|female|24.0|    3|    2|     19950|   263.0|C23 C25 C27|       S|\n",
            "|        345|       0|     2|Fox, Mr. Stanley ...|  male|36.0|    0|    0|    229236|    13.0|       null|       S|\n",
            "|        358|       0|     2|Funk, Miss. Annie...|female|38.0|    0|    0|    237671|    13.0|       null|       S|\n",
            "|        429|       0|     3|    Flynn, Mr. James|  male|null|    0|    0|    364851|    7.75|       null|       Q|\n",
            "|        439|       0|     1|   Fortune, Mr. Mark|  male|64.0|    1|    4|     19950|   263.0|C23 C25 C27|       S|\n",
            "|        453|       0|     1|Foreman, Mr. Benj...|  male|30.0|    0|    0|    113051|   27.75|       C111|       C|\n",
            "|        526|       0|     3|  Farrell, Mr. James|  male|40.5|    0|    0|    367232|    7.75|       null|       Q|\n",
            "|        528|       0|     1|  Farthing, Mr. John|  male|null|    0|    0|  PC 17483|221.7792|        C95|       S|\n",
            "|        540|       1|     1|Frolicher, Miss. ...|female|22.0|    0|    2|     13568|    49.5|        B39|       C|\n",
            "+-----------+--------+------+--------------------+------+----+-----+-----+----------+--------+-----------+--------+\n",
            "only showing top 20 rows\n",
            "\n"
          ]
        }
      ]
    },
    {
      "cell_type": "code",
      "source": [
        "df_train.select(df_train.Name.substr(1,5)).show()\n",
        "df_train[[df_train.Name.substr(1,5)]].show()"
      ],
      "metadata": {
        "colab": {
          "base_uri": "https://localhost:8080/"
        },
        "id": "C7w6tAj0Z03f",
        "outputId": "bfc22a97-3bb6-4fd6-aa83-4a8d7e5d8cf6"
      },
      "execution_count": 121,
      "outputs": [
        {
          "output_type": "stream",
          "name": "stdout",
          "text": [
            "+---------------------+\n",
            "|substring(Name, 1, 5)|\n",
            "+---------------------+\n",
            "|                Braun|\n",
            "|                Cumin|\n",
            "|                Heikk|\n",
            "|                Futre|\n",
            "|                Allen|\n",
            "|                Moran|\n",
            "|                McCar|\n",
            "|                Palss|\n",
            "|                Johns|\n",
            "|                Nasse|\n",
            "|                Sands|\n",
            "|                Bonne|\n",
            "|                Saund|\n",
            "|                Ander|\n",
            "|                Vestr|\n",
            "|                Hewle|\n",
            "|                Rice,|\n",
            "|                Willi|\n",
            "|                Vande|\n",
            "|                Masse|\n",
            "+---------------------+\n",
            "only showing top 20 rows\n",
            "\n",
            "+---------------------+\n",
            "|substring(Name, 1, 5)|\n",
            "+---------------------+\n",
            "|                Braun|\n",
            "|                Cumin|\n",
            "|                Heikk|\n",
            "|                Futre|\n",
            "|                Allen|\n",
            "|                Moran|\n",
            "|                McCar|\n",
            "|                Palss|\n",
            "|                Johns|\n",
            "|                Nasse|\n",
            "|                Sands|\n",
            "|                Bonne|\n",
            "|                Saund|\n",
            "|                Ander|\n",
            "|                Vestr|\n",
            "|                Hewle|\n",
            "|                Rice,|\n",
            "|                Willi|\n",
            "|                Vande|\n",
            "|                Masse|\n",
            "+---------------------+\n",
            "only showing top 20 rows\n",
            "\n"
          ]
        }
      ]
    },
    {
      "cell_type": "code",
      "source": [
        "df_train.groupBy(\"Pclass\").mean().toPandas()\n",
        "df_train.groupBy(\"Pclass\").mean().show()"
      ],
      "metadata": {
        "colab": {
          "base_uri": "https://localhost:8080/"
        },
        "id": "itYfnLvQfQ-L",
        "outputId": "1c15ae13-8bf8-4ff7-dbce-3408138392b7"
      },
      "execution_count": 124,
      "outputs": [
        {
          "output_type": "stream",
          "name": "stdout",
          "text": [
            "+------+------------------+-------------------+-----------+------------------+-------------------+-------------------+------------------+\n",
            "|Pclass|  avg(PassengerId)|      avg(Survived)|avg(Pclass)|          avg(Age)|         avg(SibSp)|         avg(Parch)|         avg(Fare)|\n",
            "+------+------------------+-------------------+-----------+------------------+-------------------+-------------------+------------------+\n",
            "|     1|461.59722222222223| 0.6296296296296297|        1.0|38.233440860215055| 0.4166666666666667|0.35648148148148145| 84.15468749999992|\n",
            "|     3| 439.1547861507128|0.24236252545824846|        3.0| 25.14061971830986|  0.615071283095723|0.39307535641547864|13.675550101832997|\n",
            "|     2|445.95652173913044|0.47282608695652173|        2.0| 29.87763005780347|0.40217391304347827| 0.3804347826086957| 20.66218315217391|\n",
            "+------+------------------+-------------------+-----------+------------------+-------------------+-------------------+------------------+\n",
            "\n"
          ]
        }
      ]
    },
    {
      "cell_type": "code",
      "source": [
        "df_train.groupBy(\"Pclass\").mean().select('Pclass', 'avg(Fare)').show() #extended way\n",
        "df_train.groupBy(\"Pclass\").mean(\"Fare\").show() #short way"
      ],
      "metadata": {
        "colab": {
          "base_uri": "https://localhost:8080/"
        },
        "id": "qbtb6715fokC",
        "outputId": "eff5e6da-5adf-4c5f-d103-98e037ce16fe"
      },
      "execution_count": 127,
      "outputs": [
        {
          "output_type": "stream",
          "name": "stdout",
          "text": [
            "+------+------------------+\n",
            "|Pclass|         avg(Fare)|\n",
            "+------+------------------+\n",
            "|     1| 84.15468749999992|\n",
            "|     3|13.675550101832997|\n",
            "|     2| 20.66218315217391|\n",
            "+------+------------------+\n",
            "\n",
            "+------+------------------+\n",
            "|Pclass|         avg(Fare)|\n",
            "+------+------------------+\n",
            "|     1| 84.15468749999992|\n",
            "|     3|13.675550101832997|\n",
            "|     2| 20.66218315217391|\n",
            "+------+------------------+\n",
            "\n"
          ]
        }
      ]
    },
    {
      "cell_type": "code",
      "source": [
        "df_train.agg({'Fare':'mean'}).show()\n",
        "from pyspark.sql.functions import mean\n",
        "df_train.select(mean(\"Fare\")).show()"
      ],
      "metadata": {
        "colab": {
          "base_uri": "https://localhost:8080/"
        },
        "id": "iUbyb61sgMZ7",
        "outputId": "ab1f1838-ef75-45f6-d480-bc74a091602b"
      },
      "execution_count": 129,
      "outputs": [
        {
          "output_type": "stream",
          "name": "stdout",
          "text": [
            "+----------------+\n",
            "|       avg(Fare)|\n",
            "+----------------+\n",
            "|32.2042079685746|\n",
            "+----------------+\n",
            "\n",
            "+----------------+\n",
            "|       avg(Fare)|\n",
            "+----------------+\n",
            "|32.2042079685746|\n",
            "+----------------+\n",
            "\n"
          ]
        }
      ]
    },
    {
      "cell_type": "code",
      "source": [
        "tmp = df_train.groupBy(\"Pclass\")\n",
        "tmp.agg({\"Fare\": 'mean'}).show()"
      ],
      "metadata": {
        "colab": {
          "base_uri": "https://localhost:8080/"
        },
        "id": "nBYkzTJSguG5",
        "outputId": "2e1479dc-8e75-4781-970c-9903e6e81e11"
      },
      "execution_count": 131,
      "outputs": [
        {
          "output_type": "stream",
          "name": "stdout",
          "text": [
            "+------+------------------+\n",
            "|Pclass|         avg(Fare)|\n",
            "+------+------------------+\n",
            "|     1| 84.15468749999992|\n",
            "|     3|13.675550101832997|\n",
            "|     2| 20.66218315217391|\n",
            "+------+------------------+\n",
            "\n"
          ]
        }
      ]
    },
    {
      "cell_type": "code",
      "source": [
        "from pyspark.sql.functions import format_number\n",
        "tmp = df_train.groupBy(\"Pclass\")\n",
        "tmp = tmp.agg({\"Fare\": 'mean'})\n",
        "tmp.select('Pclass', format_number(\"avg(Fare)\", 2).alias(\"avg fare\")).show()"
      ],
      "metadata": {
        "colab": {
          "base_uri": "https://localhost:8080/"
        },
        "id": "cM8J-BgChEq4",
        "outputId": "bc7784c9-7fb4-4983-f5ee-b4f8aa40d19c"
      },
      "execution_count": 132,
      "outputs": [
        {
          "output_type": "stream",
          "name": "stdout",
          "text": [
            "+------+--------+\n",
            "|Pclass|avg fare|\n",
            "+------+--------+\n",
            "|     1|   84.15|\n",
            "|     3|   13.68|\n",
            "|     2|   20.66|\n",
            "+------+--------+\n",
            "\n"
          ]
        }
      ]
    },
    {
      "cell_type": "code",
      "source": [
        "df_train.orderBy(\"Fare\").limit(20).toPandas()\n",
        "df_train.orderBy(\"Fare\").limit(20).show()\n",
        "#-----------------------------------------------\n",
        "df_train.orderBy(df_train.Fare.asc()).show()"
      ],
      "metadata": {
        "colab": {
          "base_uri": "https://localhost:8080/"
        },
        "id": "XOPVdxjJhWVO",
        "outputId": "eb66cc91-86f6-437c-9140-433fb001d0a3"
      },
      "execution_count": 135,
      "outputs": [
        {
          "output_type": "stream",
          "name": "stdout",
          "text": [
            "+-----------+--------+------+--------------------+----+----+-----+-----+------+------+-----------+--------+\n",
            "|PassengerId|Survived|Pclass|                Name| Sex| Age|SibSp|Parch|Ticket|  Fare|      Cabin|Embarked|\n",
            "+-----------+--------+------+--------------------+----+----+-----+-----+------+------+-----------+--------+\n",
            "|        278|       0|     2|\"Parkes, Mr. Fran...|male|null|    0|    0|239853|   0.0|       null|       S|\n",
            "|        303|       0|     3|Johnson, Mr. Will...|male|19.0|    0|    0|  LINE|   0.0|       null|       S|\n",
            "|        180|       0|     3| Leonard, Mr. Lionel|male|36.0|    0|    0|  LINE|   0.0|       null|       S|\n",
            "|        272|       1|     3|Tornquist, Mr. Wi...|male|25.0|    0|    0|  LINE|   0.0|       null|       S|\n",
            "|        264|       0|     1|Harrison, Mr. Wil...|male|40.0|    0|    0|112059|   0.0|        B94|       S|\n",
            "|        482|       0|     2|\"Frost, Mr. Antho...|male|null|    0|    0|239854|   0.0|       null|       S|\n",
            "|        414|       0|     2|Cunningham, Mr. A...|male|null|    0|    0|239853|   0.0|       null|       S|\n",
            "|        467|       0|     2|Campbell, Mr. Wil...|male|null|    0|    0|239853|   0.0|       null|       S|\n",
            "|        598|       0|     3| Johnson, Mr. Alfred|male|49.0|    0|    0|  LINE|   0.0|       null|       S|\n",
            "|        634|       0|     1|Parr, Mr. William...|male|null|    0|    0|112052|   0.0|       null|       S|\n",
            "|        675|       0|     2|Watson, Mr. Ennis...|male|null|    0|    0|239856|   0.0|       null|       S|\n",
            "|        733|       0|     2|Knight, Mr. Robert J|male|null|    0|    0|239855|   0.0|       null|       S|\n",
            "|        807|       0|     1|Andrews, Mr. Thom...|male|39.0|    0|    0|112050|   0.0|        A36|       S|\n",
            "|        816|       0|     1|    Fry, Mr. Richard|male|null|    0|    0|112058|   0.0|       B102|       S|\n",
            "|        823|       0|     1|Reuchlin, Jonkhee...|male|38.0|    0|    0| 19972|   0.0|       null|       S|\n",
            "|        379|       0|     3| Betros, Mr. Tannous|male|20.0|    0|    0|  2648|4.0125|       null|       C|\n",
            "|        873|       0|     1|Carlsson, Mr. Fra...|male|33.0|    0|    0|   695|   5.0|B51 B53 B55|       S|\n",
            "|        327|       0|     3|Nysveen, Mr. Joha...|male|61.0|    0|    0|345364|6.2375|       null|       S|\n",
            "|        844|       0|     3|Lemberopolous, Mr...|male|34.5|    0|    0|  2683|6.4375|       null|       C|\n",
            "|        819|       0|     3|Holm, Mr. John Fr...|male|43.0|    0|    0|C 7075|  6.45|       null|       S|\n",
            "+-----------+--------+------+--------------------+----+----+-----+-----+------+------+-----------+--------+\n",
            "\n",
            "+-----------+--------+------+--------------------+----+----+-----+-----+------+------+-----------+--------+\n",
            "|PassengerId|Survived|Pclass|                Name| Sex| Age|SibSp|Parch|Ticket|  Fare|      Cabin|Embarked|\n",
            "+-----------+--------+------+--------------------+----+----+-----+-----+------+------+-----------+--------+\n",
            "|        272|       1|     3|Tornquist, Mr. Wi...|male|25.0|    0|    0|  LINE|   0.0|       null|       S|\n",
            "|        180|       0|     3| Leonard, Mr. Lionel|male|36.0|    0|    0|  LINE|   0.0|       null|       S|\n",
            "|        414|       0|     2|Cunningham, Mr. A...|male|null|    0|    0|239853|   0.0|       null|       S|\n",
            "|        278|       0|     2|\"Parkes, Mr. Fran...|male|null|    0|    0|239853|   0.0|       null|       S|\n",
            "|        675|       0|     2|Watson, Mr. Ennis...|male|null|    0|    0|239856|   0.0|       null|       S|\n",
            "|        733|       0|     2|Knight, Mr. Robert J|male|null|    0|    0|239855|   0.0|       null|       S|\n",
            "|        807|       0|     1|Andrews, Mr. Thom...|male|39.0|    0|    0|112050|   0.0|        A36|       S|\n",
            "|        816|       0|     1|    Fry, Mr. Richard|male|null|    0|    0|112058|   0.0|       B102|       S|\n",
            "|        823|       0|     1|Reuchlin, Jonkhee...|male|38.0|    0|    0| 19972|   0.0|       null|       S|\n",
            "|        467|       0|     2|Campbell, Mr. Wil...|male|null|    0|    0|239853|   0.0|       null|       S|\n",
            "|        264|       0|     1|Harrison, Mr. Wil...|male|40.0|    0|    0|112059|   0.0|        B94|       S|\n",
            "|        598|       0|     3| Johnson, Mr. Alfred|male|49.0|    0|    0|  LINE|   0.0|       null|       S|\n",
            "|        303|       0|     3|Johnson, Mr. Will...|male|19.0|    0|    0|  LINE|   0.0|       null|       S|\n",
            "|        634|       0|     1|Parr, Mr. William...|male|null|    0|    0|112052|   0.0|       null|       S|\n",
            "|        482|       0|     2|\"Frost, Mr. Antho...|male|null|    0|    0|239854|   0.0|       null|       S|\n",
            "|        379|       0|     3| Betros, Mr. Tannous|male|20.0|    0|    0|  2648|4.0125|       null|       C|\n",
            "|        873|       0|     1|Carlsson, Mr. Fra...|male|33.0|    0|    0|   695|   5.0|B51 B53 B55|       S|\n",
            "|        327|       0|     3|Nysveen, Mr. Joha...|male|61.0|    0|    0|345364|6.2375|       null|       S|\n",
            "|        844|       0|     3|Lemberopolous, Mr...|male|34.5|    0|    0|  2683|6.4375|       null|       C|\n",
            "|        819|       0|     3|Holm, Mr. John Fr...|male|43.0|    0|    0|C 7075|  6.45|       null|       S|\n",
            "+-----------+--------+------+--------------------+----+----+-----+-----+------+------+-----------+--------+\n",
            "only showing top 20 rows\n",
            "\n"
          ]
        }
      ]
    },
    {
      "cell_type": "code",
      "source": [
        "df_train.orderBy(df_train.Fare.desc()).limit(10).show()"
      ],
      "metadata": {
        "colab": {
          "base_uri": "https://localhost:8080/"
        },
        "id": "Kt6ofIczhp82",
        "outputId": "17460962-1db4-4305-9bca-e226f06c422a"
      },
      "execution_count": 137,
      "outputs": [
        {
          "output_type": "stream",
          "name": "stdout",
          "text": [
            "+-----------+--------+------+--------------------+------+----+-----+-----+--------+--------+---------------+--------+\n",
            "|PassengerId|Survived|Pclass|                Name|   Sex| Age|SibSp|Parch|  Ticket|    Fare|          Cabin|Embarked|\n",
            "+-----------+--------+------+--------------------+------+----+-----+-----+--------+--------+---------------+--------+\n",
            "|        680|       1|     1|Cardeza, Mr. Thom...|  male|36.0|    0|    1|PC 17755|512.3292|    B51 B53 B55|       C|\n",
            "|        259|       1|     1|    Ward, Miss. Anna|female|35.0|    0|    0|PC 17755|512.3292|           null|       C|\n",
            "|        738|       1|     1|Lesurer, Mr. Gust...|  male|35.0|    0|    0|PC 17755|512.3292|           B101|       C|\n",
            "|         89|       1|     1|Fortune, Miss. Ma...|female|23.0|    3|    2|   19950|   263.0|    C23 C25 C27|       S|\n",
            "|         28|       0|     1|Fortune, Mr. Char...|  male|19.0|    3|    2|   19950|   263.0|    C23 C25 C27|       S|\n",
            "|        342|       1|     1|Fortune, Miss. Al...|female|24.0|    3|    2|   19950|   263.0|    C23 C25 C27|       S|\n",
            "|        439|       0|     1|   Fortune, Mr. Mark|  male|64.0|    1|    4|   19950|   263.0|    C23 C25 C27|       S|\n",
            "|        312|       1|     1|Ryerson, Miss. Em...|female|18.0|    2|    2|PC 17608| 262.375|B57 B59 B63 B66|       C|\n",
            "|        743|       1|     1|\"Ryerson, Miss. S...|female|21.0|    2|    2|PC 17608| 262.375|B57 B59 B63 B66|       C|\n",
            "|        119|       0|     1|Baxter, Mr. Quigg...|  male|24.0|    0|    1|PC 17558|247.5208|        B58 B60|       C|\n",
            "+-----------+--------+------+--------------------+------+----+-----+-----+--------+--------+---------------+--------+\n",
            "\n"
          ]
        }
      ]
    },
    {
      "cell_type": "code",
      "source": [
        "df_train.filter(df_train.Embarked.isNull()).count()"
      ],
      "metadata": {
        "colab": {
          "base_uri": "https://localhost:8080/"
        },
        "id": "YaTSWe-thzKS",
        "outputId": "d68a0ecf-9db3-4e10-9044-b8c389d13b9d"
      },
      "execution_count": 138,
      "outputs": [
        {
          "output_type": "execute_result",
          "data": {
            "text/plain": [
              "2"
            ]
          },
          "metadata": {},
          "execution_count": 138
        }
      ]
    },
    {
      "cell_type": "code",
      "source": [
        "df_train.select('PassengerID','Embarked').orderBy(df_train.Embarked.asc_nulls_first()).show()"
      ],
      "metadata": {
        "colab": {
          "base_uri": "https://localhost:8080/"
        },
        "id": "djOj7unQh-Fk",
        "outputId": "5c592497-4364-4519-c34b-e34b248d20f6"
      },
      "execution_count": 139,
      "outputs": [
        {
          "output_type": "stream",
          "name": "stdout",
          "text": [
            "+-----------+--------+\n",
            "|PassengerID|Embarked|\n",
            "+-----------+--------+\n",
            "|         62|    null|\n",
            "|        830|    null|\n",
            "|        204|       C|\n",
            "|         74|       C|\n",
            "|         97|       C|\n",
            "|         98|       C|\n",
            "|         66|       C|\n",
            "|        115|       C|\n",
            "|         65|       C|\n",
            "|        123|       C|\n",
            "|         31|       C|\n",
            "|        112|       C|\n",
            "|         35|       C|\n",
            "|         40|       C|\n",
            "|        119|       C|\n",
            "|         44|       C|\n",
            "|         53|       C|\n",
            "|        126|       C|\n",
            "|         58|       C|\n",
            "|        129|       C|\n",
            "+-----------+--------+\n",
            "only showing top 20 rows\n",
            "\n"
          ]
        }
      ]
    },
    {
      "cell_type": "code",
      "source": [
        "df_train.select('PassengerID','Embarked').orderBy(df_train.Embarked.asc_nulls_last()).tail(10)"
      ],
      "metadata": {
        "colab": {
          "base_uri": "https://localhost:8080/"
        },
        "id": "CR83x3HMiDk0",
        "outputId": "5b938e73-e9b6-4cc6-abcc-0f5fad540c19"
      },
      "execution_count": 140,
      "outputs": [
        {
          "output_type": "execute_result",
          "data": {
            "text/plain": [
              "[Row(PassengerID=881, Embarked='S'),\n",
              " Row(PassengerID=882, Embarked='S'),\n",
              " Row(PassengerID=883, Embarked='S'),\n",
              " Row(PassengerID=884, Embarked='S'),\n",
              " Row(PassengerID=885, Embarked='S'),\n",
              " Row(PassengerID=887, Embarked='S'),\n",
              " Row(PassengerID=888, Embarked='S'),\n",
              " Row(PassengerID=889, Embarked='S'),\n",
              " Row(PassengerID=62, Embarked=None),\n",
              " Row(PassengerID=830, Embarked=None)]"
            ]
          },
          "metadata": {},
          "execution_count": 140
        }
      ]
    },
    {
      "cell_type": "code",
      "source": [
        "df_train.na.drop(how=\"any\").limit(10).toPandas()\n",
        "df_train.na.drop(how=\"any\").limit(10).show()"
      ],
      "metadata": {
        "colab": {
          "base_uri": "https://localhost:8080/"
        },
        "id": "cKCLmK_AiLBC",
        "outputId": "1b3434f3-68c0-471e-d02e-821d9c7d0c19"
      },
      "execution_count": 143,
      "outputs": [
        {
          "output_type": "stream",
          "name": "stdout",
          "text": [
            "+-----------+--------+------+--------------------+------+----+-----+-----+--------+-------+-----------+--------+\n",
            "|PassengerId|Survived|Pclass|                Name|   Sex| Age|SibSp|Parch|  Ticket|   Fare|      Cabin|Embarked|\n",
            "+-----------+--------+------+--------------------+------+----+-----+-----+--------+-------+-----------+--------+\n",
            "|          2|       1|     1|Cumings, Mrs. Joh...|female|38.0|    1|    0|PC 17599|71.2833|        C85|       C|\n",
            "|          4|       1|     1|Futrelle, Mrs. Ja...|female|35.0|    1|    0|  113803|   53.1|       C123|       S|\n",
            "|          7|       0|     1|McCarthy, Mr. Tim...|  male|54.0|    0|    0|   17463|51.8625|        E46|       S|\n",
            "|         11|       1|     3|Sandstrom, Miss. ...|female| 4.0|    1|    1| PP 9549|   16.7|         G6|       S|\n",
            "|         12|       1|     1|Bonnell, Miss. El...|female|58.0|    0|    0|  113783|  26.55|       C103|       S|\n",
            "|         22|       1|     2|Beesley, Mr. Lawr...|  male|34.0|    0|    0|  248698|   13.0|        D56|       S|\n",
            "|         24|       1|     1|Sloper, Mr. Willi...|  male|28.0|    0|    0|  113788|   35.5|         A6|       S|\n",
            "|         28|       0|     1|Fortune, Mr. Char...|  male|19.0|    3|    2|   19950|  263.0|C23 C25 C27|       S|\n",
            "|         53|       1|     1|Harper, Mrs. Henr...|female|49.0|    1|    0|PC 17572|76.7292|        D33|       C|\n",
            "|         55|       0|     1|Ostby, Mr. Engelh...|  male|65.0|    0|    1|  113509|61.9792|        B30|       C|\n",
            "+-----------+--------+------+--------------------+------+----+-----+-----+--------+-------+-----------+--------+\n",
            "\n"
          ]
        }
      ]
    }
  ]
}